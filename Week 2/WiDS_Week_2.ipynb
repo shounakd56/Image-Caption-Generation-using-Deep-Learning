{
  "nbformat": 4,
  "nbformat_minor": 0,
  "metadata": {
    "colab": {
      "provenance": [],
      "include_colab_link": true
    },
    "kernelspec": {
      "name": "python3",
      "display_name": "Python 3"
    },
    "language_info": {
      "name": "python"
    },
    "gpuClass": "standard"
  },
  "cells": [
    {
      "cell_type": "markdown",
      "metadata": {
        "id": "view-in-github",
        "colab_type": "text"
      },
      "source": [
        "<a href=\"https://colab.research.google.com/github/shounakd56/Image-Caption-Generation-using-Deep-Learning/blob/main/Week%202/WiDS_Week_2.ipynb\" target=\"_parent\"><img src=\"https://colab.research.google.com/assets/colab-badge.svg\" alt=\"Open In Colab\"/></a>"
      ]
    },
    {
      "cell_type": "markdown",
      "source": [
        "# Image Captioning using Deep Learning: Assignment-2\n",
        "\n",
        "*  In this assignment, we will build a classifier for MNIST from using [PyTorch](https://pytorch.org/docs/stable/index.html). \n",
        "\n",
        "*   No limitations on your model this time, just don't use CNNs now, that's up next week.\n",
        "\n",
        "**Feel free to redefine any pre-written cells below, just make sure to properly explain your work in Markdown and don't change the dataset**"
      ],
      "metadata": {
        "id": "YOMDY6CE6uQy"
      }
    },
    {
      "cell_type": "markdown",
      "source": [
        "## Import libraries here\n",
        "PyTorch, NumPy, Matplotlib, ...\n",
        "Even when equipped with PyTorch, NumPy and Matplotlib make your work easier for visualization etc.\n",
        "\n",
        "Also remember to **initialize the seed** for reproducibility of results, both for NumPy & PyTorch."
      ],
      "metadata": {
        "id": "vC0ayFSADB7C"
      }
    },
    {
      "cell_type": "code",
      "execution_count": null,
      "metadata": {
        "id": "FLaLfmz8UGGU"
      },
      "outputs": [],
      "source": [
        "import torch\n",
        "import torch.nn as nn\n",
        "import torch.optim as optim\n",
        "import numpy as np\n",
        "import matplotlib.pyplot as plt\n",
        "from sklearn.model_selection import train_test_split\n",
        "from time import time"
      ]
    },
    {
      "cell_type": "markdown",
      "source": [
        "## Load *Dataset*\n",
        "**DON'T CHANGE THIS CODE**."
      ],
      "metadata": {
        "id": "s9qqRFFkDNeD"
      }
    },
    {
      "cell_type": "code",
      "source": [
        "import torchvision\n",
        "from torchvision import transforms, datasets\n",
        "\n",
        "train = datasets.MNIST('', train=True, download=True,\n",
        "                       transform=transforms.Compose([\n",
        "                           transforms.ToTensor()\n",
        "                       ]))\n",
        "\n",
        "test = datasets.MNIST('', train=False, download=True,\n",
        "                       transform=transforms.Compose([\n",
        "                           transforms.ToTensor()\n",
        "                       ]))"
      ],
      "metadata": {
        "id": "iRUY2jQ8i68q"
      },
      "execution_count": null,
      "outputs": []
    },
    {
      "cell_type": "markdown",
      "source": [
        "# Your Code from here..."
      ],
      "metadata": {
        "id": "wFGt8fegD28i"
      }
    },
    {
      "cell_type": "code",
      "source": [
        "# load the data set\n",
        "\n",
        "X =  torch.utils.data.DataLoader(train, batch_size=1000, shuffle=True)\n",
        "y = torch.utils.data.DataLoader(test, batch_size=1000, shuffle=True)\n",
        "\n",
        "# normalize the dataset, won't be doing it here in later assignments\n",
        "\n",
        "\n"
      ],
      "metadata": {
        "id": "umr8-1EI_3ez"
      },
      "execution_count": null,
      "outputs": []
    },
    {
      "cell_type": "code",
      "source": [
        "dataiter = iter(X)\n",
        "images, labels = next(dataiter)\n"
      ],
      "metadata": {
        "id": "p8AEspiy9KRm"
      },
      "execution_count": null,
      "outputs": []
    },
    {
      "cell_type": "code",
      "source": [
        "# Split into X_train, y_train, X_test, y_test\n",
        "# you can use stratified splitting from sklearn library\n",
        "X_train, X_test, y_train, y_test = train_test_split(images,labels, test_size=0.50, random_state=1, stratify=labels)\n"
      ],
      "metadata": {
        "id": "OqfTQ8uVJe7l"
      },
      "execution_count": null,
      "outputs": []
    },
    {
      "cell_type": "code",
      "source": [
        "labels"
      ],
      "metadata": {
        "colab": {
          "base_uri": "https://localhost:8080/"
        },
        "id": "MG604TAp_sxv",
        "outputId": "0e24c3e7-ed40-4120-a06c-83e4aa27e20e"
      },
      "execution_count": null,
      "outputs": [
        {
          "output_type": "execute_result",
          "data": {
            "text/plain": [
              "tensor([2, 0, 8, 7, 0, 8, 5, 1, 6, 9, 4, 2, 2, 6, 6, 1, 2, 1, 0, 5, 9, 2, 2, 4,\n",
              "        2, 9, 0, 3, 8, 3, 2, 2, 2, 5, 6, 7, 5, 6, 7, 2, 8, 7, 8, 9, 0, 7, 2, 7,\n",
              "        1, 5, 4, 9, 0, 2, 0, 3, 8, 8, 1, 7, 6, 2, 9, 7, 7, 5, 7, 0, 0, 0, 3, 8,\n",
              "        9, 5, 6, 1, 0, 9, 7, 5, 4, 1, 1, 2, 9, 7, 7, 4, 9, 3, 2, 9, 7, 9, 3, 2,\n",
              "        4, 9, 2, 1, 3, 1, 5, 3, 2, 2, 7, 8, 9, 9, 1, 1, 7, 8, 2, 4, 2, 1, 1, 3,\n",
              "        8, 5, 4, 8, 2, 7, 8, 9, 8, 1, 5, 2, 3, 8, 2, 8, 2, 1, 0, 1, 8, 0, 4, 4,\n",
              "        3, 6, 2, 1, 1, 7, 1, 9, 8, 2, 7, 9, 5, 2, 6, 1, 7, 3, 6, 0, 6, 1, 5, 4,\n",
              "        8, 6, 3, 3, 9, 7, 9, 7, 7, 5, 7, 6, 7, 1, 3, 1, 8, 8, 0, 2, 7, 6, 3, 9,\n",
              "        3, 8, 2, 9, 0, 2, 1, 6, 7, 8, 6, 0, 9, 3, 6, 8, 4, 1, 4, 5, 7, 3, 2, 0,\n",
              "        1, 2, 8, 6, 3, 0, 5, 6, 9, 6, 7, 2, 0, 5, 0, 4, 1, 4, 1, 6, 6, 2, 2, 5,\n",
              "        7, 1, 1, 4, 5, 6, 0, 8, 9, 1, 6, 7, 0, 5, 5, 4, 3, 3, 2, 3, 9, 4, 0, 1,\n",
              "        1, 9, 7, 3, 6, 0, 5, 9, 0, 9, 7, 4, 2, 2, 6, 5, 7, 9, 4, 1, 2, 5, 0, 3,\n",
              "        7, 1, 7, 6, 6, 3, 2, 2, 6, 7, 1, 9, 7, 3, 5, 3, 4, 3, 7, 6, 0, 9, 1, 0,\n",
              "        1, 8, 3, 3, 4, 8, 7, 3, 6, 0, 5, 9, 8, 3, 6, 3, 7, 3, 5, 3, 7, 7, 1, 3,\n",
              "        6, 6, 0, 9, 6, 8, 2, 0, 8, 1, 7, 8, 8, 0, 0, 8, 4, 9, 0, 3, 9, 6, 2, 2,\n",
              "        5, 3, 1, 3, 7, 0, 3, 6, 1, 7, 4, 1, 1, 5, 1, 5, 1, 2, 3, 2, 8, 8, 9, 2,\n",
              "        1, 9, 9, 9, 4, 3, 9, 2, 6, 2, 8, 9, 3, 6, 6, 9, 9, 8, 1, 1, 5, 4, 9, 2,\n",
              "        9, 8, 1, 8, 3, 8, 9, 5, 2, 4, 6, 1, 1, 2, 0, 1, 8, 1, 9, 7, 6, 3, 9, 3,\n",
              "        3, 5, 8, 9, 7, 1, 0, 4, 0, 2, 3, 8, 2, 6, 6, 9, 8, 0, 2, 5, 1, 1, 2, 8,\n",
              "        9, 9, 4, 2, 8, 7, 0, 7, 4, 9, 8, 6, 1, 5, 3, 1, 1, 6, 4, 3, 3, 0, 2, 3,\n",
              "        0, 8, 7, 4, 7, 1, 7, 1, 9, 3, 0, 2, 3, 1, 8, 9, 8, 6, 3, 8, 4, 4, 6, 4,\n",
              "        0, 6, 8, 0, 2, 7, 1, 5, 4, 7, 5, 7, 2, 5, 8, 0, 4, 2, 2, 3, 3, 4, 1, 9,\n",
              "        9, 5, 8, 9, 5, 0, 7, 4, 5, 4, 8, 0, 9, 3, 5, 7, 4, 5, 9, 6, 7, 1, 5, 1,\n",
              "        6, 4, 0, 0, 9, 7, 0, 1, 3, 1, 1, 8, 7, 6, 0, 5, 1, 1, 0, 7, 1, 7, 5, 7,\n",
              "        4, 9, 0, 1, 8, 5, 4, 1, 0, 0, 7, 8, 1, 4, 6, 2, 3, 3, 4, 8, 1, 7, 2, 2,\n",
              "        8, 5, 0, 8, 2, 9, 1, 3, 4, 7, 9, 0, 2, 1, 1, 3, 9, 2, 1, 8, 6, 2, 9, 2,\n",
              "        3, 4, 7, 1, 8, 0, 0, 2, 8, 9, 8, 0, 1, 3, 5, 5, 2, 8, 1, 0, 0, 8, 4, 2,\n",
              "        0, 2, 0, 4, 4, 9, 3, 4, 9, 3, 8, 1, 9, 8, 3, 9, 7, 9, 6, 4, 2, 6, 0, 0,\n",
              "        1, 0, 9, 1, 4, 4, 5, 8, 8, 8, 3, 2, 1, 5, 4, 5, 5, 6, 4, 0, 5, 2, 6, 2,\n",
              "        2, 6, 7, 3, 3, 4, 2, 3, 9, 6, 1, 4, 3, 7, 0, 3, 4, 5, 3, 3, 0, 4, 9, 0,\n",
              "        6, 8, 5, 0, 9, 3, 5, 4, 9, 7, 8, 3, 1, 9, 1, 8, 0, 7, 8, 6, 0, 4, 8, 3,\n",
              "        8, 7, 6, 6, 7, 7, 0, 7, 8, 7, 2, 2, 4, 0, 7, 6, 2, 4, 2, 4, 3, 8, 6, 2,\n",
              "        6, 8, 8, 2, 4, 9, 8, 4, 8, 3, 5, 3, 8, 3, 4, 1, 7, 0, 0, 8, 4, 7, 2, 3,\n",
              "        7, 4, 9, 5, 4, 4, 2, 0, 3, 4, 3, 7, 3, 2, 2, 7, 1, 8, 7, 0, 7, 2, 6, 4,\n",
              "        7, 2, 0, 7, 7, 9, 6, 9, 8, 3, 3, 8, 0, 8, 3, 3, 7, 0, 7, 9, 0, 9, 3, 6,\n",
              "        2, 8, 2, 9, 7, 2, 0, 7, 2, 3, 3, 8, 0, 9, 2, 1, 0, 1, 6, 0, 8, 6, 1, 7,\n",
              "        0, 5, 1, 8, 1, 4, 8, 9, 7, 5, 4, 6, 0, 1, 9, 4, 1, 5, 4, 9, 0, 9, 6, 4,\n",
              "        8, 1, 8, 7, 0, 3, 6, 7, 9, 1, 6, 7, 4, 7, 3, 8, 2, 5, 7, 7, 4, 2, 2, 5,\n",
              "        6, 6, 3, 0, 8, 1, 3, 0, 2, 4, 2, 9, 0, 8, 2, 4, 6, 9, 1, 7, 1, 6, 4, 3,\n",
              "        2, 4, 4, 7, 4, 8, 2, 2, 5, 8, 8, 2, 9, 0, 6, 0, 9, 8, 1, 0, 8, 8, 2, 9,\n",
              "        8, 6, 5, 2, 2, 9, 1, 2, 1, 5, 4, 0, 8, 9, 8, 2, 6, 6, 3, 1, 9, 5, 3, 6,\n",
              "        3, 2, 9, 0, 0, 1, 6, 7, 7, 5, 4, 8, 0, 0, 8, 9])"
            ]
          },
          "metadata": {},
          "execution_count": 80
        }
      ]
    },
    {
      "cell_type": "code",
      "source": [
        "# display a 4x4 grid, \n",
        "# choose 16 images randomly, display the images as well as corresponding labels\n"
      ],
      "metadata": {
        "id": "w4174DiUAUIJ"
      },
      "execution_count": null,
      "outputs": []
    },
    {
      "cell_type": "code",
      "source": [
        "for i in range(16):\n",
        "     plt.subplot(4,4,i+1)\n",
        "     plt.imshow(images[i][0], cmap='gray')\n",
        "     plt.title('Label: {}'.format(labels[i]))\n",
        "plt.show()"
      ],
      "metadata": {
        "colab": {
          "base_uri": "https://localhost:8080/",
          "height": 281
        },
        "id": "jx9sDeTO_Orh",
        "outputId": "d72710dc-5f0e-44f5-c5fc-1b2f90dfbf7b"
      },
      "execution_count": null,
      "outputs": [
        {
          "output_type": "display_data",
          "data": {
            "text/plain": [
              "<Figure size 432x288 with 16 Axes>"
            ],
            "image/png": "[encoded data removed]"
          },
          "metadata": {
            "needs_background": "light"
          }
        }
      ]
    },
    {
      "cell_type": "code",
      "source": [
        "# define your dataset for pre-processing into Neural Network\n",
        "\n",
        "\n",
        "\n",
        "\n"
      ],
      "metadata": {
        "id": "vifSrimqBGjH"
      },
      "execution_count": null,
      "outputs": []
    },
    {
      "cell_type": "markdown",
      "source": [
        "## ```nn.Module``` for your model\n",
        "In this segment, define a class for your model, it has to inherit from the ```nn.Module``` class. You must define two functions here - ```__init__``` and ```forward```, again pretty self-explanatory. Helper functions can also be implemented, your choice!\n",
        "\n",
        "Look into the following ```torch``` layers and combine them to form your network, you can find more [here](https://pytorch.org/docs/stable/nn.html) -\n",
        "- [```nn.Linear```](https://pytorch.org/docs/stable/generated/torch.nn.Linear.html)\n",
        "- [```nn.ReLU```](https://pytorch.org/docs/stable/generated/torch.nn.ReLU.html)\n",
        "- [```nn.BatchNorm1d```](https://pytorch.org/docs/stable/generated/torch.nn.BatchNorm1d.html)\n"
      ],
      "metadata": {
        "id": "DOs6uifpBF8P"
      }
    },
    {
      "cell_type": "code",
      "source": [
        "input_size=784\n",
        "hidden_size=5000\n",
        "num_classes=10\n",
        "num_epochs=2"
      ],
      "metadata": {
        "id": "wg5Noes950r1"
      },
      "execution_count": null,
      "outputs": []
    },
    {
      "cell_type": "code",
      "source": [
        "# define a child class of nn.Module for your model\n",
        "# specify the architecture here itself\n",
        "\n",
        "class NeuralNet(nn.Module):\n",
        "     def __init__(self, input_size, hidden_size, num_classes):\n",
        "         super(NeuralNet, self).__init__()\n",
        "         self.input_size = input_size\n",
        "         self.l1 = nn.Linear(input_size, hidden_size) \n",
        "         self.relu = nn.ReLU()\n",
        "         self.l2 = nn.Linear(hidden_size, num_classes)  \n",
        "     def forward(self, x):\n",
        "         out = self.l1(x)\n",
        "         out = self.relu(out)\n",
        "         out = self.l2(out)\n",
        "         return out\n",
        "\n",
        "device = torch.device('cuda' if torch.cuda.is_available() else 'cpu')\n",
        "model = NeuralNet(input_size, hidden_size, num_classes).to(device)"
      ],
      "metadata": {
        "id": "6Mr6_5pzGRjp"
      },
      "execution_count": null,
      "outputs": []
    },
    {
      "cell_type": "code",
      "source": [
        "criterion = nn.CrossEntropyLoss()\n",
        "optimizer = optim.SGD(model.parameters(), lr=0.001, momentum=0.9)"
      ],
      "metadata": {
        "id": "46wAqU6qAKWz"
      },
      "execution_count": null,
      "outputs": []
    },
    {
      "cell_type": "markdown",
      "source": [
        "## Training loop\n",
        "You can write a training loop but usually writing it within a function helps so that you can train in multiple passes with just one function call if you still don't see convergence of the loss. ```display_step``` is for you to display results on the validation set (which you must not have trained upon).\n",
        "\n",
        "You will need to use ```zero_grad()```, ```backward()``` and multiple such functions here. Look for them in the tutorials given."
      ],
      "metadata": {
        "id": "tVTyirdELXlt"
      }
    },
    {
      "cell_type": "code",
      "source": [
        "def train(model, optimizer, criterion, train_loader, display_step=None):\n",
        "  for epoch in range(2):  # loop over the dataset multiple times\n",
        "\n",
        "    running_loss = 0.0\n",
        "    for i, (inputs, labels) in enumerate(train_loader):\n",
        "        # get the inputs; data is a list of [inputs, labels]\n",
        "        device = torch.device('cuda' if torch.cuda.is_available() else 'cpu')\n",
        "        inputs = inputs.reshape(-1, 28*28).to(device)\n",
        "        labels=labels.to(device)\n",
        "        # zero the parameter gradients\n",
        "        optimizer.zero_grad()\n",
        "\n",
        "        # forward + backward + optimize\n",
        "        outputs = model(inputs)\n",
        "        loss = criterion(outputs, labels)\n",
        "        loss.backward()\n",
        "        optimizer.step()\n",
        "\n",
        "        # print statistics\n",
        "        running_loss += loss.item()\n",
        "        if i % 200 == 199:    # print every 200 mini-batches\n",
        "            print(f'[{epoch + 1}, {i + 1:5d}] loss: {running_loss / 2000:.3f}')\n",
        "            running_loss = 0.0\n",
        "\n",
        "  print('Finished Training')\n",
        "    "
      ],
      "metadata": {
        "id": "z0BnrNm8LN5s"
      },
      "execution_count": null,
      "outputs": []
    },
    {
      "cell_type": "code",
      "source": [
        "train(model,optimizer,criterion,X,display_step=None)"
      ],
      "metadata": {
        "colab": {
          "base_uri": "https://localhost:8080/"
        },
        "id": "wkTEFrg2Es8F",
        "outputId": "5e1ca46c-5c51-418d-a992-c6a10934884c"
      },
      "execution_count": null,
      "outputs": [
        {
          "output_type": "stream",
          "name": "stdout",
          "text": [
            "Finished Training\n"
          ]
        }
      ]
    },
    {
      "cell_type": "code",
      "source": [
        "y"
      ],
      "metadata": {
        "colab": {
          "base_uri": "https://localhost:8080/"
        },
        "id": "4rkRUeUK-CQR",
        "outputId": "387f9633-9a4a-4b84-84e0-b96558708bb2"
      },
      "execution_count": null,
      "outputs": [
        {
          "output_type": "execute_result",
          "data": {
            "text/plain": [
              "<torch.utils.data.dataloader.DataLoader at 0x7f3f96203580>"
            ]
          },
          "metadata": {},
          "execution_count": 103
        }
      ]
    },
    {
      "cell_type": "markdown",
      "source": [
        "## Prediction & Accuracy\n",
        "Prediction function should predict outputs using your trained model for a given **NumPy array** ```X_test``` and the output should be another **NumPy array**.\n",
        "\n",
        "The accuracy function would be the same as before."
      ],
      "metadata": {
        "id": "ivuHRGtfN3sE"
      }
    },
    {
      "cell_type": "code",
      "source": [
        "dataiter2 = iter(y)\n",
        "images2, labels2 = next(dataiter2)\n",
        "images3=images2.numpy()\n",
        "images3 = images3.reshape(-1, 28*28)\n"
      ],
      "metadata": {
        "id": "BFpNWmqpAdSD"
      },
      "execution_count": null,
      "outputs": []
    },
    {
      "cell_type": "code",
      "source": [
        "def predict(model, X_test):\n",
        "    test_tensor = torch.from_numpy(X_test)\n",
        "    preds=model(test_tensor)\n",
        "    _,predicted = torch.max(preds.data, 1)\n",
        "    return predicted\n"
      ],
      "metadata": {
        "id": "cPX1q_0AN3ZV"
      },
      "execution_count": null,
      "outputs": []
    },
    {
      "cell_type": "code",
      "source": [
        "predicted=predict(model,images3)"
      ],
      "metadata": {
        "id": "gw0XSXRFA4PJ"
      },
      "execution_count": null,
      "outputs": []
    },
    {
      "cell_type": "code",
      "source": [
        "predicted=predicted.numpy()"
      ],
      "metadata": {
        "id": "KLowfv-GDtJa"
      },
      "execution_count": null,
      "outputs": []
    },
    {
      "cell_type": "code",
      "source": [
        "predicted"
      ],
      "metadata": {
        "colab": {
          "base_uri": "https://localhost:8080/"
        },
        "id": "mbY1l-QUD5wS",
        "outputId": "0bad68f9-4979-493c-b838-5f6d136854dd"
      },
      "execution_count": null,
      "outputs": [
        {
          "output_type": "execute_result",
          "data": {
            "text/plain": [
              "array([5, 0, 1, 0, 0, 1, 5, 4, 1, 3, 1, 1, 6, 0, 2, 3, 9, 1, 3, 5, 3, 4,\n",
              "       4, 0, 3, 1, 2, 2, 4, 4, 4, 8, 7, 6, 1, 8, 6, 1, 5, 6, 9, 2, 5, 0,\n",
              "       2, 9, 3, 8, 6, 7, 3, 0, 0, 3, 7, 1, 0, 0, 0, 7, 3, 7, 7, 9, 0, 1,\n",
              "       2, 3, 3, 3, 7, 0, 9, 6, 7, 4, 3, 1, 3, 6, 3, 1, 0, 9, 1, 1, 2, 0,\n",
              "       6, 9, 3, 0, 7, 6, 4, 3, 3, 9, 1, 3, 1, 1, 1, 1, 7, 4, 2, 2, 2, 1,\n",
              "       3, 8, 6, 1, 0, 8, 9, 5, 4, 2, 3, 3, 2, 9, 5, 7, 0, 7, 7, 0, 9, 0,\n",
              "       6, 9, 9, 1, 9, 1, 2, 9, 8, 4, 1, 6, 7, 9, 6, 3, 2, 6, 0, 2, 9, 9,\n",
              "       7, 0, 3, 7, 4, 0, 7, 4, 6, 3, 8, 9, 1, 3, 6, 0, 6, 1, 9, 0, 7, 2,\n",
              "       8, 9, 1, 8, 7, 0, 0, 8, 0, 1, 8, 5, 6, 0, 7, 5, 6, 3, 3, 4, 7, 4,\n",
              "       8, 9, 8, 9, 3, 2, 6, 7, 9, 6, 2, 6, 8, 0, 1, 1, 6, 8, 9, 8, 0, 4,\n",
              "       8, 2, 8, 3, 6, 4, 4, 8, 7, 2, 7, 6, 4, 1, 0, 0, 2, 6, 2, 1, 4, 7,\n",
              "       4, 3, 4, 6, 2, 9, 4, 9, 1, 1, 7, 0, 6, 3, 7, 7, 0, 2, 4, 6, 1, 4,\n",
              "       8, 3, 2, 9, 9, 5, 2, 3, 7, 3, 4, 4, 4, 6, 9, 6, 1, 6, 2, 9, 7, 3,\n",
              "       1, 3, 7, 4, 3, 6, 7, 9, 4, 6, 3, 1, 2, 1, 5, 7, 1, 2, 7, 4, 3, 9,\n",
              "       2, 8, 8, 5, 8, 4, 7, 8, 1, 2, 7, 3, 7, 4, 4, 0, 6, 2, 6, 3, 0, 9,\n",
              "       3, 8, 1, 8, 2, 4, 4, 1, 5, 3, 1, 7, 1, 7, 9, 1, 0, 1, 7, 1, 3, 0,\n",
              "       1, 6, 3, 6, 1, 7, 8, 2, 9, 6, 2, 3, 6, 8, 4, 4, 4, 1, 3, 1, 7, 6,\n",
              "       0, 9, 9, 0, 7, 9, 8, 2, 8, 2, 0, 5, 5, 0, 3, 1, 1, 3, 6, 3, 3, 1,\n",
              "       9, 2, 3, 4, 7, 8, 6, 6, 0, 6, 7, 0, 8, 5, 3, 0, 9, 0, 4, 4, 1, 0,\n",
              "       6, 1, 3, 1, 1, 1, 0, 1, 1, 6, 3, 1, 7, 9, 7, 0, 4, 9, 1, 6, 7, 3,\n",
              "       1, 8, 9, 9, 2, 2, 6, 8, 8, 6, 2, 8, 0, 7, 0, 4, 1, 6, 1, 8, 3, 2,\n",
              "       1, 8, 2, 2, 1, 7, 2, 1, 3, 5, 9, 8, 3, 9, 8, 6, 3, 3, 1, 8, 6, 0,\n",
              "       9, 3, 9, 0, 3, 4, 4, 3, 1, 4, 7, 1, 1, 0, 7, 9, 0, 0, 3, 7, 3, 3,\n",
              "       9, 0, 2, 4, 7, 0, 8, 0, 2, 8, 1, 7, 7, 9, 9, 0, 1, 2, 8, 1, 0, 6,\n",
              "       1, 7, 1, 1, 8, 9, 1, 0, 1, 3, 3, 3, 2, 1, 8, 3, 1, 2, 1, 1, 9, 7,\n",
              "       3, 3, 4, 9, 8, 4, 8, 0, 4, 6, 2, 7, 7, 2, 3, 9, 0, 2, 4, 8, 4, 1,\n",
              "       4, 0, 7, 0, 7, 9, 1, 6, 3, 2, 2, 4, 2, 1, 3, 0, 1, 7, 1, 3, 9, 2,\n",
              "       3, 6, 4, 6, 2, 3, 8, 9, 0, 9, 0, 1, 4, 9, 8, 0, 2, 7, 3, 7, 6, 0,\n",
              "       3, 4, 8, 4, 3, 7, 9, 7, 6, 8, 0, 3, 1, 1, 7, 3, 9, 3, 0, 0, 7, 6,\n",
              "       7, 9, 2, 7, 6, 7, 2, 2, 9, 8, 7, 0, 6, 0, 0, 6, 0, 9, 9, 8, 4, 5,\n",
              "       8, 0, 0, 8, 7, 4, 4, 1, 1, 0, 0, 6, 8, 1, 8, 6, 3, 3, 7, 1, 6, 6,\n",
              "       1, 9, 9, 5, 4, 0, 8, 9, 9, 8, 7, 6, 9, 8, 8, 3, 6, 2, 6, 5, 1, 9,\n",
              "       7, 0, 0, 9, 4, 5, 8, 6, 0, 0, 9, 7, 6, 6, 2, 1, 3, 6, 9, 7, 8, 9,\n",
              "       2, 7, 3, 7, 6, 3, 2, 0, 2, 1, 8, 1, 2, 4, 4, 9, 4, 4, 8, 0, 8, 1,\n",
              "       6, 9, 4, 8, 7, 3, 8, 4, 6, 8, 4, 7, 8, 3, 2, 0, 3, 1, 4, 0, 8, 2,\n",
              "       6, 5, 3, 3, 7, 6, 8, 3, 7, 4, 4, 6, 2, 1, 1, 0, 9, 1, 8, 2, 3, 9,\n",
              "       1, 2, 6, 3, 6, 1, 0, 4, 0, 5, 4, 9, 8, 4, 6, 1, 3, 8, 3, 2, 4, 0,\n",
              "       7, 2, 6, 7, 9, 3, 1, 4, 2, 6, 1, 1, 0, 4, 6, 7, 2, 3, 8, 0, 1, 0,\n",
              "       9, 3, 9, 1, 6, 9, 5, 2, 2, 1, 3, 0, 7, 4, 4, 7, 9, 3, 2, 8, 5, 1,\n",
              "       2, 3, 5, 7, 3, 2, 0, 7, 7, 6, 3, 3, 2, 8, 6, 2, 3, 7, 6, 1, 2, 8,\n",
              "       0, 8, 1, 7, 7, 1, 3, 0, 6, 2, 9, 0, 0, 0, 9, 9, 1, 2, 1, 8, 8, 7,\n",
              "       2, 7, 1, 2, 8, 9, 4, 3, 3, 7, 1, 1, 9, 2, 3, 0, 3, 1, 7, 8, 9, 1,\n",
              "       3, 1, 9, 0, 0, 7, 7, 1, 7, 0, 8, 4, 2, 2, 1, 8, 8, 4, 6, 4, 1, 7,\n",
              "       1, 3, 1, 3, 2, 0, 1, 0, 9, 9, 4, 0, 5, 7, 7, 6, 0, 0, 1, 8, 6, 7,\n",
              "       3, 6, 8, 7, 7, 4, 1, 7, 0, 0, 3, 6, 8, 3, 9, 3, 7, 7, 1, 9, 7, 4,\n",
              "       8, 2, 7, 9, 1, 3, 3, 4, 9, 1])"
            ]
          },
          "metadata": {},
          "execution_count": 110
        }
      ]
    },
    {
      "cell_type": "code",
      "source": [
        "labels2=labels2.numpy()"
      ],
      "metadata": {
        "id": "Hiig9RLoEXey"
      },
      "execution_count": null,
      "outputs": []
    },
    {
      "cell_type": "code",
      "source": [
        "labels2"
      ],
      "metadata": {
        "colab": {
          "base_uri": "https://localhost:8080/"
        },
        "id": "syBBskdRD_DE",
        "outputId": "d5a35216-6d16-4168-8929-b48b6a84e3d4"
      },
      "execution_count": null,
      "outputs": [
        {
          "output_type": "execute_result",
          "data": {
            "text/plain": [
              "array([5, 2, 1, 0, 5, 1, 5, 4, 1, 8, 1, 1, 6, 0, 2, 3, 7, 1, 3, 5, 3, 9,\n",
              "       4, 0, 5, 1, 7, 2, 4, 4, 4, 8, 7, 6, 1, 8, 6, 1, 5, 6, 9, 2, 5, 0,\n",
              "       2, 9, 3, 8, 6, 7, 8, 5, 0, 3, 7, 1, 0, 0, 0, 7, 3, 7, 7, 4, 0, 1,\n",
              "       2, 5, 5, 8, 7, 0, 9, 6, 7, 4, 3, 2, 3, 6, 5, 2, 0, 9, 1, 1, 5, 5,\n",
              "       6, 9, 3, 0, 7, 6, 4, 3, 3, 9, 1, 3, 1, 1, 1, 7, 7, 4, 2, 2, 2, 1,\n",
              "       3, 8, 6, 1, 0, 4, 9, 5, 4, 2, 5, 3, 2, 4, 5, 7, 0, 7, 7, 0, 4, 0,\n",
              "       6, 9, 9, 1, 9, 1, 2, 9, 8, 4, 1, 9, 7, 9, 6, 3, 8, 6, 5, 2, 9, 9,\n",
              "       7, 0, 3, 7, 9, 0, 7, 4, 6, 3, 8, 9, 1, 3, 6, 0, 5, 6, 9, 0, 8, 2,\n",
              "       8, 9, 1, 8, 7, 0, 0, 8, 0, 1, 8, 5, 6, 0, 7, 5, 6, 3, 3, 4, 7, 4,\n",
              "       8, 9, 5, 9, 3, 2, 6, 7, 9, 6, 2, 6, 8, 0, 1, 1, 0, 8, 4, 0, 0, 4,\n",
              "       8, 2, 7, 3, 6, 4, 4, 8, 7, 1, 7, 6, 4, 1, 0, 0, 2, 6, 2, 1, 4, 9,\n",
              "       4, 5, 4, 6, 2, 4, 4, 9, 1, 1, 7, 0, 6, 3, 7, 9, 0, 7, 4, 6, 7, 4,\n",
              "       8, 3, 8, 9, 8, 5, 2, 3, 9, 8, 4, 4, 4, 6, 9, 6, 1, 6, 3, 9, 7, 3,\n",
              "       1, 3, 7, 4, 3, 6, 9, 9, 4, 6, 3, 1, 2, 1, 5, 7, 1, 2, 7, 4, 3, 9,\n",
              "       2, 9, 9, 5, 8, 5, 7, 8, 1, 2, 7, 3, 7, 4, 4, 5, 6, 2, 0, 8, 7, 4,\n",
              "       9, 2, 1, 2, 2, 4, 4, 1, 5, 3, 1, 7, 1, 7, 9, 1, 0, 1, 9, 1, 3, 0,\n",
              "       1, 6, 5, 6, 1, 2, 8, 2, 9, 6, 2, 3, 6, 8, 4, 4, 4, 5, 3, 2, 7, 6,\n",
              "       0, 4, 9, 2, 7, 9, 2, 2, 8, 2, 0, 5, 5, 0, 8, 5, 1, 5, 6, 3, 3, 1,\n",
              "       9, 2, 3, 4, 8, 8, 6, 6, 0, 6, 5, 0, 8, 5, 2, 0, 9, 0, 4, 9, 1, 0,\n",
              "       8, 1, 5, 1, 2, 1, 0, 1, 1, 6, 3, 1, 9, 9, 7, 0, 4, 4, 2, 6, 7, 9,\n",
              "       6, 8, 9, 4, 1, 2, 2, 8, 8, 8, 7, 8, 0, 5, 4, 4, 1, 6, 1, 5, 3, 2,\n",
              "       1, 8, 2, 2, 5, 7, 2, 1, 3, 5, 9, 8, 3, 9, 8, 5, 3, 3, 1, 8, 6, 0,\n",
              "       9, 3, 9, 0, 3, 4, 4, 3, 1, 4, 7, 1, 1, 0, 7, 9, 0, 0, 3, 7, 3, 3,\n",
              "       9, 6, 2, 9, 7, 0, 8, 0, 2, 8, 5, 7, 7, 4, 4, 6, 8, 2, 8, 1, 7, 1,\n",
              "       5, 7, 1, 1, 3, 9, 1, 0, 1, 3, 3, 3, 6, 1, 8, 3, 1, 2, 2, 1, 7, 7,\n",
              "       3, 3, 4, 4, 3, 4, 2, 0, 4, 6, 2, 7, 7, 2, 3, 9, 2, 2, 4, 2, 4, 7,\n",
              "       4, 0, 7, 0, 7, 9, 1, 6, 3, 2, 2, 9, 2, 1, 5, 0, 1, 2, 1, 3, 9, 2,\n",
              "       3, 6, 4, 6, 2, 5, 4, 9, 8, 4, 0, 7, 4, 9, 8, 0, 2, 7, 3, 9, 6, 0,\n",
              "       3, 4, 8, 4, 3, 7, 9, 9, 6, 8, 0, 8, 4, 1, 3, 3, 8, 3, 0, 5, 7, 6,\n",
              "       7, 9, 2, 7, 6, 7, 2, 9, 9, 8, 7, 5, 5, 0, 0, 6, 6, 9, 9, 3, 4, 5,\n",
              "       8, 0, 0, 1, 7, 9, 4, 1, 1, 8, 0, 6, 8, 1, 8, 4, 8, 3, 7, 1, 6, 5,\n",
              "       7, 9, 9, 5, 4, 2, 2, 9, 4, 8, 7, 6, 9, 8, 8, 5, 6, 2, 6, 5, 1, 9,\n",
              "       7, 3, 0, 9, 4, 5, 3, 6, 5, 0, 9, 7, 6, 6, 7, 1, 5, 6, 9, 7, 2, 8,\n",
              "       2, 7, 3, 7, 6, 3, 2, 0, 2, 1, 8, 1, 2, 4, 4, 9, 4, 4, 5, 0, 8, 1,\n",
              "       4, 9, 4, 8, 7, 3, 8, 9, 3, 8, 4, 7, 8, 8, 6, 8, 3, 1, 4, 5, 3, 2,\n",
              "       6, 5, 5, 2, 7, 6, 5, 2, 7, 9, 4, 6, 2, 1, 1, 5, 9, 1, 8, 6, 5, 9,\n",
              "       1, 2, 6, 5, 6, 1, 0, 4, 0, 5, 4, 9, 2, 4, 6, 1, 3, 8, 3, 2, 4, 5,\n",
              "       7, 2, 6, 7, 7, 5, 5, 5, 2, 6, 1, 1, 0, 4, 6, 7, 2, 3, 8, 0, 2, 2,\n",
              "       9, 3, 9, 5, 2, 7, 5, 2, 2, 6, 5, 0, 7, 4, 9, 7, 9, 3, 2, 8, 5, 1,\n",
              "       2, 5, 5, 7, 3, 2, 0, 7, 7, 6, 5, 5, 2, 8, 6, 2, 3, 7, 6, 1, 6, 4,\n",
              "       0, 8, 1, 7, 7, 4, 3, 0, 5, 2, 9, 5, 0, 8, 9, 4, 1, 2, 1, 3, 8, 9,\n",
              "       2, 7, 1, 2, 8, 9, 4, 5, 5, 5, 1, 1, 9, 2, 5, 6, 3, 1, 7, 8, 9, 1,\n",
              "       3, 1, 9, 0, 0, 7, 7, 8, 7, 7, 4, 4, 2, 2, 1, 8, 8, 4, 6, 4, 1, 7,\n",
              "       1, 3, 7, 9, 2, 0, 5, 5, 9, 9, 4, 0, 5, 7, 7, 6, 0, 4, 1, 8, 6, 7,\n",
              "       3, 6, 8, 7, 7, 4, 1, 7, 0, 0, 3, 6, 5, 3, 9, 9, 7, 7, 1, 9, 7, 4,\n",
              "       8, 2, 5, 9, 2, 8, 3, 4, 9, 2])"
            ]
          },
          "metadata": {},
          "execution_count": 109
        }
      ]
    },
    {
      "cell_type": "code",
      "source": [
        "def accuracy(pred, labels):\n",
        "  acc=np.sum(np.equal(pred,labels))/len(labels)\n",
        "  print(acc)"
      ],
      "metadata": {
        "id": "_nKROVpWOa6j"
      },
      "execution_count": null,
      "outputs": []
    },
    {
      "cell_type": "code",
      "source": [
        "accuracy(predicted,labels2)"
      ],
      "metadata": {
        "colab": {
          "base_uri": "https://localhost:8080/"
        },
        "id": "cJB-pK3w8ACq",
        "outputId": "8b79e424-b64a-4005-894c-521c463102f5"
      },
      "execution_count": null,
      "outputs": [
        {
          "output_type": "stream",
          "name": "stdout",
          "text": [
            "0.787\n"
          ]
        }
      ]
    },
    {
      "cell_type": "markdown",
      "source": [
        "## Actually training your model\n",
        "- Create a model, initialize it. Define optimizer for the model as well as loss criterion (you can actually set the seed here again, just in case you did some ```rand``` calls above for testing your functions).\n",
        "- Define an instance of the dataset class, wrap it in a dataloader.\n",
        "- Call the train function and train your model!\n"
      ],
      "metadata": {
        "id": "8aA1EWZmMbQe"
      }
    },
    {
      "cell_type": "code",
      "source": [],
      "metadata": {
        "id": "F8JG_XURNLmr"
      },
      "execution_count": null,
      "outputs": []
    },
    {
      "cell_type": "markdown",
      "source": [
        "## Run your model for the validation dataset\n",
        "Use your trained model to get predictions for the validation dataset you split earlier."
      ],
      "metadata": {
        "id": "OQsiK0-COe6E"
      }
    },
    {
      "cell_type": "code",
      "source": [
        "X_test_arr=X_test.numpy().reshape(-1, 28*28)\n",
        "p_val=predict(model,X_test_arr)"
      ],
      "metadata": {
        "id": "i_B_NUjUOq3c"
      },
      "execution_count": null,
      "outputs": []
    },
    {
      "cell_type": "code",
      "source": [
        "p_val=p_val.numpy()\n",
        "p_val"
      ],
      "metadata": {
        "colab": {
          "base_uri": "https://localhost:8080/"
        },
        "id": "MHmoYZ1oHgUw",
        "outputId": "0b7621f3-2c88-4189-eb32-d5d531e04107"
      },
      "execution_count": null,
      "outputs": [
        {
          "output_type": "execute_result",
          "data": {
            "text/plain": [
              "array([7, 7, 1, 0, 2, 3, 7, 9, 6, 4, 7, 7, 0, 0, 1, 3, 6, 7, 2, 2, 0, 6,\n",
              "       6, 1, 9, 2, 1, 8, 8, 0, 9, 3, 3, 6, 9, 7, 3, 7, 4, 4, 7, 0, 1, 9,\n",
              "       3, 2, 0, 1, 7, 5, 8, 1, 1, 2, 0, 4, 8, 7, 3, 2, 3, 4, 3, 9, 6, 9,\n",
              "       8, 9, 2, 8, 4, 9, 8, 1, 1, 7, 0, 6, 6, 7, 8, 0, 9, 1, 3, 9, 7, 3,\n",
              "       9, 1, 6, 3, 0, 6, 7, 8, 9, 0, 0, 2, 2, 2, 3, 0, 4, 8, 0, 9, 4, 9,\n",
              "       4, 0, 8, 3, 7, 4, 3, 0, 1, 8, 3, 7, 9, 0, 1, 2, 1, 3, 7, 8, 3, 7,\n",
              "       8, 1, 7, 1, 7, 4, 3, 6, 7, 4, 9, 0, 8, 1, 3, 7, 7, 9, 4, 3, 2, 3,\n",
              "       4, 9, 6, 6, 9, 3, 3, 9, 2, 5, 2, 3, 8, 4, 2, 7, 4, 8, 2, 1, 0, 7,\n",
              "       2, 0, 2, 6, 3, 1, 4, 3, 3, 6, 0, 4, 7, 7, 2, 8, 1, 6, 5, 0, 1, 7,\n",
              "       5, 0, 1, 4, 0, 3, 0, 0, 8, 9, 1, 3, 6, 1, 0, 1, 9, 9, 4, 4, 7, 9,\n",
              "       2, 2, 0, 6, 2, 4, 6, 6, 0, 6, 2, 4, 2, 0, 7, 7, 6, 2, 2, 0, 0, 1,\n",
              "       6, 2, 4, 9, 0, 0, 3, 9, 3, 9, 3, 6, 9, 5, 2, 6, 3, 1, 6, 8, 1, 1,\n",
              "       3, 3, 2, 7, 5, 9, 1, 4, 1, 3, 0, 2, 1, 7, 2, 4, 7, 3, 1, 9, 1, 3,\n",
              "       6, 0, 2, 0, 0, 6, 1, 7, 4, 8, 8, 0, 7, 1, 3, 8, 7, 1, 2, 4, 3, 8,\n",
              "       7, 9, 1, 7, 0, 2, 8, 3, 8, 1, 0, 2, 4, 7, 8, 1, 9, 1, 0, 3, 6, 1,\n",
              "       3, 2, 2, 2, 8, 7, 1, 8, 1, 7, 2, 3, 6, 3, 9, 7, 2, 6, 7, 8, 0, 4,\n",
              "       3, 3, 2, 0, 1, 2, 7, 6, 0, 5, 2, 0, 4, 8, 1, 8, 4, 9, 3, 8, 1, 4,\n",
              "       6, 1, 0, 6, 6, 9, 3, 2, 5, 4, 7, 1, 0, 8, 8, 2, 7, 3, 1, 0, 0, 1,\n",
              "       0, 3, 6, 7, 5, 1, 6, 1, 1, 0, 7, 4, 3, 0, 0, 4, 8, 7, 5, 9, 2, 6,\n",
              "       8, 6, 4, 6, 3, 0, 0, 9, 8, 7, 7, 0, 8, 4, 6, 4, 0, 5, 6, 8, 3, 2,\n",
              "       7, 6, 7, 6, 2, 1, 2, 9, 0, 3, 7, 8, 2, 0, 0, 2, 4, 0, 9, 1, 8, 1,\n",
              "       5, 1, 0, 1, 6, 4, 6, 6, 1, 7, 0, 0, 6, 9, 8, 2, 3, 1, 4, 0, 7, 3,\n",
              "       6, 4, 8, 2, 3, 9, 8, 8, 7, 0, 3, 9, 3, 6, 8, 1])"
            ]
          },
          "metadata": {},
          "execution_count": 122
        }
      ]
    },
    {
      "cell_type": "code",
      "source": [
        "y_test_arr=y_test.numpy()"
      ],
      "metadata": {
        "id": "V-2mMOBCHjCD"
      },
      "execution_count": null,
      "outputs": []
    },
    {
      "cell_type": "code",
      "source": [
        "accuracy(p_val,y_test_arr)"
      ],
      "metadata": {
        "colab": {
          "base_uri": "https://localhost:8080/"
        },
        "id": "6RR4WsOcH-q2",
        "outputId": "275093bf-e0f0-4b3a-ace6-ce8a4e7b3ba9"
      },
      "execution_count": null,
      "outputs": [
        {
          "output_type": "stream",
          "name": "stdout",
          "text": [
            "0.794\n"
          ]
        }
      ]
    },
    {
      "cell_type": "markdown",
      "source": [
        "## Submission\n",
        "To submit your solution, you will need to make a file with name ```model.py``` containing imports necessary to write the model class and the model class itself. It shouldn't do anything else when run. Other than this, save the trained model in a file named ```ass_2.pt```. When you are done with the assignment, commit the updated notebook, the ```model.py``` class file and the ```ass_2.pt``` model-weights file to the repository."
      ],
      "metadata": {
        "id": "0f4W_facj-PA"
      }
    },
    {
      "cell_type": "code",
      "source": [
        "from google.colab import files\n",
        "torch.save(model, 'ass_2.pt')\n",
        "files.download('ass_2.pt') # download the file from the Colab session for submission"
      ],
      "metadata": {
        "id": "7tknYAy1j92M",
        "colab": {
          "base_uri": "https://localhost:8080/",
          "height": 17
        },
        "outputId": "92c76597-c716-4916-ca2b-dc553028c376"
      },
      "execution_count": null,
      "outputs": [
        {
          "output_type": "display_data",
          "data": {
            "text/plain": [
              "<IPython.core.display.Javascript object>"
            ],
            "application/javascript": [
              "\n",
              "    async function download(id, filename, size) {\n",
              "      if (!google.colab.kernel.accessAllowed) {\n",
              "        return;\n",
              "      }\n",
              "      const div = document.createElement('div');\n",
              "      const label = document.createElement('label');\n",
              "      label.textContent = `Downloading \"${filename}\": `;\n",
              "      div.appendChild(label);\n",
              "      const progress = document.createElement('progress');\n",
              "      progress.max = size;\n",
              "      div.appendChild(progress);\n",
              "      document.body.appendChild(div);\n",
              "\n",
              "      const buffers = [];\n",
              "      let downloaded = 0;\n",
              "\n",
              "      const channel = await google.colab.kernel.comms.open(id);\n",
              "      // Send a message to notify the kernel that we're ready.\n",
              "      channel.send({})\n",
              "\n",
              "      for await (const message of channel.messages) {\n",
              "        // Send a message to notify the kernel that we're ready.\n",
              "        channel.send({})\n",
              "        if (message.buffers) {\n",
              "          for (const buffer of message.buffers) {\n",
              "            buffers.push(buffer);\n",
              "            downloaded += buffer.byteLength;\n",
              "            progress.value = downloaded;\n",
              "          }\n",
              "        }\n",
              "      }\n",
              "      const blob = new Blob(buffers, {type: 'application/binary'});\n",
              "      const a = document.createElement('a');\n",
              "      a.href = window.URL.createObjectURL(blob);\n",
              "      a.download = filename;\n",
              "      div.appendChild(a);\n",
              "      a.click();\n",
              "      div.remove();\n",
              "    }\n",
              "  "
            ]
          },
          "metadata": {}
        },
        {
          "output_type": "display_data",
          "data": {
            "text/plain": [
              "<IPython.core.display.Javascript object>"
            ],
            "application/javascript": [
              "download(\"download_ae697435-3d66-43f5-bc56-729863d35be7\", \"ass_2.pt\", 15902291)"
            ]
          },
          "metadata": {}
        }
      ]
    },
    {
      "cell_type": "markdown",
      "source": [
        "Check if it got saved right!"
      ],
      "metadata": {
        "id": "flMRBW9Akhkg"
      }
    },
    {
      "cell_type": "code",
      "source": [
        "# load the model, use predict function\n"
      ],
      "metadata": {
        "id": "-wA9nHzYkj1R"
      },
      "execution_count": null,
      "outputs": []
    }
  ]
}