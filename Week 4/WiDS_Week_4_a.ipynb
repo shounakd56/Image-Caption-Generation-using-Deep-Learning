{
  "nbformat": 4,
  "nbformat_minor": 0,
  "metadata": {
    "colab": {
      "provenance": [],
      "authorship_tag": "ABX9TyMnQPKuTiMg6FFdP0/jn/Lh",
      "include_colab_link": true
    },
    "kernelspec": {
      "name": "python3",
      "display_name": "Python 3"
    },
    "language_info": {
      "name": "python"
    }
  },
  "cells": [
    {
      "cell_type": "markdown",
      "metadata": {
        "id": "view-in-github",
        "colab_type": "text"
      },
      "source": [
        "<a href=\"https://colab.research.google.com/github/shounakd56/Image-Caption-Generation-using-Deep-Learning/blob/main/Week%204/WiDS_Week_4_a.ipynb\" target=\"_parent\"><img src=\"https://colab.research.google.com/assets/colab-badge.svg\" alt=\"Open In Colab\"/></a>"
      ]
    },
    {
      "cell_type": "code",
      "execution_count": null,
      "metadata": {
        "colab": {
          "base_uri": "https://localhost:8080/"
        },
        "id": "c6x36YxsPAar",
        "outputId": "12e45851-74f7-4c56-e5fe-07d5fa8209ea"
      },
      "outputs": [
        {
          "output_type": "stream",
          "name": "stdout",
          "text": [
            "Mounted at /content/gdrive\n"
          ]
        }
      ],
      "source": [
        "from google.colab import drive\n",
        "drive.mount('/content/gdrive')"
      ]
    },
    {
      "cell_type": "code",
      "source": [
        "import numpy as np\n",
        "import pandas as pd\n",
        "import matplotlib.pyplot as plt\n",
        "import seaborn as sns\n",
        "%matplotlib inline\n",
        "\n",
        "from sklearn.preprocessing import MinMaxScaler\n",
        "from keras.models import Sequential\n",
        "from keras.layers import Dense, LSTM\n"
      ],
      "metadata": {
        "id": "rBeYCeBCQLMo"
      },
      "execution_count": null,
      "outputs": []
    },
    {
      "cell_type": "code",
      "source": [
        "data1=pd.read_csv(\"/content/gdrive/MyDrive/WiDS/CV/LSTM_train_week4.csv\")"
      ],
      "metadata": {
        "id": "hft_KqTMQMLa"
      },
      "execution_count": null,
      "outputs": []
    },
    {
      "cell_type": "code",
      "source": [
        "data1.shape"
      ],
      "metadata": {
        "colab": {
          "base_uri": "https://localhost:8080/"
        },
        "id": "bWB8AEobQ_tC",
        "outputId": "f877c263-49f9-4e78-d156-d12859f7d9ad"
      },
      "execution_count": null,
      "outputs": [
        {
          "output_type": "execute_result",
          "data": {
            "text/plain": [
              "(505, 15)"
            ]
          },
          "metadata": {},
          "execution_count": 9
        }
      ]
    },
    {
      "cell_type": "code",
      "source": [
        "data1"
      ],
      "metadata": {
        "colab": {
          "base_uri": "https://localhost:8080/",
          "height": 424
        },
        "id": "HyJRiUTeRS4f",
        "outputId": "09e56a1e-5588-4be3-a819-3c19422e044b"
      },
      "execution_count": null,
      "outputs": [
        {
          "output_type": "execute_result",
          "data": {
            "text/plain": [
              "          Date  Price   Open   High    Low   Volume    Chg%  Unnamed: 7  \\\n",
              "0     4-Jan-21  47.62  48.40  49.83  47.18  528.53K  -1.85%         NaN   \n",
              "1     5-Jan-21  49.93  47.38  50.20  47.24  643.19K   4.85%         NaN   \n",
              "2     6-Jan-21  50.63  49.82  50.94  49.48  509.37K   1.40%         NaN   \n",
              "3     7-Jan-21  50.83  50.53  51.28  50.39  369.29K   0.40%         NaN   \n",
              "4     8-Jan-21  52.24  50.93  52.75  50.81  499.42K   2.77%         NaN   \n",
              "..         ...    ...    ...    ...    ...      ...     ...         ...   \n",
              "500  23-Nov-22  77.94  81.08  81.95  76.83  379.15K  -3.72%         NaN   \n",
              "501  24-Nov-22  77.95  77.53  78.19  76.92        0   0.01%         NaN   \n",
              "502  25-Nov-22  76.28  77.51  79.90  76.22  266.45K  -2.14%         NaN   \n",
              "503  28-Nov-22  77.24  75.93  77.84  73.60  405.03K   1.26%         NaN   \n",
              "504  29-Nov-22  78.20  76.54  79.65  76.29  381.87K   1.24%         NaN   \n",
              "\n",
              "     Unnamed: 8  Unnamed: 9  Unnamed: 10  Unnamed: 11  Unnamed: 12  \\\n",
              "0           NaN         NaN          NaN          NaN          NaN   \n",
              "1           NaN         NaN          NaN          NaN          NaN   \n",
              "2           NaN         NaN          NaN          NaN          NaN   \n",
              "3           NaN         NaN          NaN          NaN          NaN   \n",
              "4           NaN         NaN          NaN          NaN          NaN   \n",
              "..          ...         ...          ...          ...          ...   \n",
              "500         NaN         NaN          NaN          NaN          NaN   \n",
              "501         NaN         NaN          NaN          NaN          NaN   \n",
              "502         NaN         NaN          NaN          NaN          NaN   \n",
              "503         NaN         NaN          NaN          NaN          NaN   \n",
              "504         NaN         NaN          NaN          NaN          NaN   \n",
              "\n",
              "     Unnamed: 13  Unnamed: 14  \n",
              "0            NaN          NaN  \n",
              "1            NaN          NaN  \n",
              "2            NaN          NaN  \n",
              "3            NaN          NaN  \n",
              "4            NaN          NaN  \n",
              "..           ...          ...  \n",
              "500          NaN          NaN  \n",
              "501          NaN          NaN  \n",
              "502          NaN          NaN  \n",
              "503          NaN          NaN  \n",
              "504          NaN          NaN  \n",
              "\n",
              "[505 rows x 15 columns]"
            ],
            "text/html": [
              "\n",
              "  <div id=\"df-d3df0e61-2eea-4043-97cb-1b5a6757a2d4\">\n",
              "    <div class=\"colab-df-container\">\n",
              "      <div>\n",
              "<style scoped>\n",
              "    .dataframe tbody tr th:only-of-type {\n",
              "        vertical-align: middle;\n",
              "    }\n",
              "\n",
              "    .dataframe tbody tr th {\n",
              "        vertical-align: top;\n",
              "    }\n",
              "\n",
              "    .dataframe thead th {\n",
              "        text-align: right;\n",
              "    }\n",
              "</style>\n",
              "<table border=\"1\" class=\"dataframe\">\n",
              "  <thead>\n",
              "    <tr style=\"text-align: right;\">\n",
              "      <th></th>\n",
              "      <th>Date</th>\n",
              "      <th>Price</th>\n",
              "      <th>Open</th>\n",
              "      <th>High</th>\n",
              "      <th>Low</th>\n",
              "      <th>Volume</th>\n",
              "      <th>Chg%</th>\n",
              "      <th>Unnamed: 7</th>\n",
              "      <th>Unnamed: 8</th>\n",
              "      <th>Unnamed: 9</th>\n",
              "      <th>Unnamed: 10</th>\n",
              "      <th>Unnamed: 11</th>\n",
              "      <th>Unnamed: 12</th>\n",
              "      <th>Unnamed: 13</th>\n",
              "      <th>Unnamed: 14</th>\n",
              "    </tr>\n",
              "  </thead>\n",
              "  <tbody>\n",
              "    <tr>\n",
              "      <th>0</th>\n",
              "      <td>4-Jan-21</td>\n",
              "      <td>47.62</td>\n",
              "      <td>48.40</td>\n",
              "      <td>49.83</td>\n",
              "      <td>47.18</td>\n",
              "      <td>528.53K</td>\n",
              "      <td>-1.85%</td>\n",
              "      <td>NaN</td>\n",
              "      <td>NaN</td>\n",
              "      <td>NaN</td>\n",
              "      <td>NaN</td>\n",
              "      <td>NaN</td>\n",
              "      <td>NaN</td>\n",
              "      <td>NaN</td>\n",
              "      <td>NaN</td>\n",
              "    </tr>\n",
              "    <tr>\n",
              "      <th>1</th>\n",
              "      <td>5-Jan-21</td>\n",
              "      <td>49.93</td>\n",
              "      <td>47.38</td>\n",
              "      <td>50.20</td>\n",
              "      <td>47.24</td>\n",
              "      <td>643.19K</td>\n",
              "      <td>4.85%</td>\n",
              "      <td>NaN</td>\n",
              "      <td>NaN</td>\n",
              "      <td>NaN</td>\n",
              "      <td>NaN</td>\n",
              "      <td>NaN</td>\n",
              "      <td>NaN</td>\n",
              "      <td>NaN</td>\n",
              "      <td>NaN</td>\n",
              "    </tr>\n",
              "    <tr>\n",
              "      <th>2</th>\n",
              "      <td>6-Jan-21</td>\n",
              "      <td>50.63</td>\n",
              "      <td>49.82</td>\n",
              "      <td>50.94</td>\n",
              "      <td>49.48</td>\n",
              "      <td>509.37K</td>\n",
              "      <td>1.40%</td>\n",
              "      <td>NaN</td>\n",
              "      <td>NaN</td>\n",
              "      <td>NaN</td>\n",
              "      <td>NaN</td>\n",
              "      <td>NaN</td>\n",
              "      <td>NaN</td>\n",
              "      <td>NaN</td>\n",
              "      <td>NaN</td>\n",
              "    </tr>\n",
              "    <tr>\n",
              "      <th>3</th>\n",
              "      <td>7-Jan-21</td>\n",
              "      <td>50.83</td>\n",
              "      <td>50.53</td>\n",
              "      <td>51.28</td>\n",
              "      <td>50.39</td>\n",
              "      <td>369.29K</td>\n",
              "      <td>0.40%</td>\n",
              "      <td>NaN</td>\n",
              "      <td>NaN</td>\n",
              "      <td>NaN</td>\n",
              "      <td>NaN</td>\n",
              "      <td>NaN</td>\n",
              "      <td>NaN</td>\n",
              "      <td>NaN</td>\n",
              "      <td>NaN</td>\n",
              "    </tr>\n",
              "    <tr>\n",
              "      <th>4</th>\n",
              "      <td>8-Jan-21</td>\n",
              "      <td>52.24</td>\n",
              "      <td>50.93</td>\n",
              "      <td>52.75</td>\n",
              "      <td>50.81</td>\n",
              "      <td>499.42K</td>\n",
              "      <td>2.77%</td>\n",
              "      <td>NaN</td>\n",
              "      <td>NaN</td>\n",
              "      <td>NaN</td>\n",
              "      <td>NaN</td>\n",
              "      <td>NaN</td>\n",
              "      <td>NaN</td>\n",
              "      <td>NaN</td>\n",
              "      <td>NaN</td>\n",
              "    </tr>\n",
              "    <tr>\n",
              "      <th>...</th>\n",
              "      <td>...</td>\n",
              "      <td>...</td>\n",
              "      <td>...</td>\n",
              "      <td>...</td>\n",
              "      <td>...</td>\n",
              "      <td>...</td>\n",
              "      <td>...</td>\n",
              "      <td>...</td>\n",
              "      <td>...</td>\n",
              "      <td>...</td>\n",
              "      <td>...</td>\n",
              "      <td>...</td>\n",
              "      <td>...</td>\n",
              "      <td>...</td>\n",
              "      <td>...</td>\n",
              "    </tr>\n",
              "    <tr>\n",
              "      <th>500</th>\n",
              "      <td>23-Nov-22</td>\n",
              "      <td>77.94</td>\n",
              "      <td>81.08</td>\n",
              "      <td>81.95</td>\n",
              "      <td>76.83</td>\n",
              "      <td>379.15K</td>\n",
              "      <td>-3.72%</td>\n",
              "      <td>NaN</td>\n",
              "      <td>NaN</td>\n",
              "      <td>NaN</td>\n",
              "      <td>NaN</td>\n",
              "      <td>NaN</td>\n",
              "      <td>NaN</td>\n",
              "      <td>NaN</td>\n",
              "      <td>NaN</td>\n",
              "    </tr>\n",
              "    <tr>\n",
              "      <th>501</th>\n",
              "      <td>24-Nov-22</td>\n",
              "      <td>77.95</td>\n",
              "      <td>77.53</td>\n",
              "      <td>78.19</td>\n",
              "      <td>76.92</td>\n",
              "      <td>0</td>\n",
              "      <td>0.01%</td>\n",
              "      <td>NaN</td>\n",
              "      <td>NaN</td>\n",
              "      <td>NaN</td>\n",
              "      <td>NaN</td>\n",
              "      <td>NaN</td>\n",
              "      <td>NaN</td>\n",
              "      <td>NaN</td>\n",
              "      <td>NaN</td>\n",
              "    </tr>\n",
              "    <tr>\n",
              "      <th>502</th>\n",
              "      <td>25-Nov-22</td>\n",
              "      <td>76.28</td>\n",
              "      <td>77.51</td>\n",
              "      <td>79.90</td>\n",
              "      <td>76.22</td>\n",
              "      <td>266.45K</td>\n",
              "      <td>-2.14%</td>\n",
              "      <td>NaN</td>\n",
              "      <td>NaN</td>\n",
              "      <td>NaN</td>\n",
              "      <td>NaN</td>\n",
              "      <td>NaN</td>\n",
              "      <td>NaN</td>\n",
              "      <td>NaN</td>\n",
              "      <td>NaN</td>\n",
              "    </tr>\n",
              "    <tr>\n",
              "      <th>503</th>\n",
              "      <td>28-Nov-22</td>\n",
              "      <td>77.24</td>\n",
              "      <td>75.93</td>\n",
              "      <td>77.84</td>\n",
              "      <td>73.60</td>\n",
              "      <td>405.03K</td>\n",
              "      <td>1.26%</td>\n",
              "      <td>NaN</td>\n",
              "      <td>NaN</td>\n",
              "      <td>NaN</td>\n",
              "      <td>NaN</td>\n",
              "      <td>NaN</td>\n",
              "      <td>NaN</td>\n",
              "      <td>NaN</td>\n",
              "      <td>NaN</td>\n",
              "    </tr>\n",
              "    <tr>\n",
              "      <th>504</th>\n",
              "      <td>29-Nov-22</td>\n",
              "      <td>78.20</td>\n",
              "      <td>76.54</td>\n",
              "      <td>79.65</td>\n",
              "      <td>76.29</td>\n",
              "      <td>381.87K</td>\n",
              "      <td>1.24%</td>\n",
              "      <td>NaN</td>\n",
              "      <td>NaN</td>\n",
              "      <td>NaN</td>\n",
              "      <td>NaN</td>\n",
              "      <td>NaN</td>\n",
              "      <td>NaN</td>\n",
              "      <td>NaN</td>\n",
              "      <td>NaN</td>\n",
              "    </tr>\n",
              "  </tbody>\n",
              "</table>\n",
              "<p>505 rows × 15 columns</p>\n",
              "</div>\n",
              "      <button class=\"colab-df-convert\" onclick=\"convertToInteractive('df-d3df0e61-2eea-4043-97cb-1b5a6757a2d4')\"\n",
              "              title=\"Convert this dataframe to an interactive table.\"\n",
              "              style=\"display:none;\">\n",
              "        \n",
              "  <svg xmlns=\"http://www.w3.org/2000/svg\" height=\"24px\"viewBox=\"0 0 24 24\"\n",
              "       width=\"24px\">\n",
              "    <path d=\"M0 0h24v24H0V0z\" fill=\"none\"/>\n",
              "    <path d=\"M18.56 5.44l.94 2.06.94-2.06 2.06-.94-2.06-.94-.94-2.06-.94 2.06-2.06.94zm-11 1L8.5 8.5l.94-2.06 2.06-.94-2.06-.94L8.5 2.5l-.94 2.06-2.06.94zm10 10l.94 2.06.94-2.06 2.06-.94-2.06-.94-.94-2.06-.94 2.06-2.06.94z\"/><path d=\"M17.41 7.96l-1.37-1.37c-.4-.4-.92-.59-1.43-.59-.52 0-1.04.2-1.43.59L10.3 9.45l-7.72 7.72c-.78.78-.78 2.05 0 2.83L4 21.41c.39.39.9.59 1.41.59.51 0 1.02-.2 1.41-.59l7.78-7.78 2.81-2.81c.8-.78.8-2.07 0-2.86zM5.41 20L4 18.59l7.72-7.72 1.47 1.35L5.41 20z\"/>\n",
              "  </svg>\n",
              "      </button>\n",
              "      \n",
              "  <style>\n",
              "    .colab-df-container {\n",
              "      display:flex;\n",
              "      flex-wrap:wrap;\n",
              "      gap: 12px;\n",
              "    }\n",
              "\n",
              "    .colab-df-convert {\n",
              "      background-color: #E8F0FE;\n",
              "      border: none;\n",
              "      border-radius: 50%;\n",
              "      cursor: pointer;\n",
              "      display: none;\n",
              "      fill: #1967D2;\n",
              "      height: 32px;\n",
              "      padding: 0 0 0 0;\n",
              "      width: 32px;\n",
              "    }\n",
              "\n",
              "    .colab-df-convert:hover {\n",
              "      background-color: #E2EBFA;\n",
              "      box-shadow: 0px 1px 2px rgba(60, 64, 67, 0.3), 0px 1px 3px 1px rgba(60, 64, 67, 0.15);\n",
              "      fill: #174EA6;\n",
              "    }\n",
              "\n",
              "    [theme=dark] .colab-df-convert {\n",
              "      background-color: #3B4455;\n",
              "      fill: #D2E3FC;\n",
              "    }\n",
              "\n",
              "    [theme=dark] .colab-df-convert:hover {\n",
              "      background-color: #434B5C;\n",
              "      box-shadow: 0px 1px 3px 1px rgba(0, 0, 0, 0.15);\n",
              "      filter: drop-shadow(0px 1px 2px rgba(0, 0, 0, 0.3));\n",
              "      fill: #FFFFFF;\n",
              "    }\n",
              "  </style>\n",
              "\n",
              "      <script>\n",
              "        const buttonEl =\n",
              "          document.querySelector('#df-d3df0e61-2eea-4043-97cb-1b5a6757a2d4 button.colab-df-convert');\n",
              "        buttonEl.style.display =\n",
              "          google.colab.kernel.accessAllowed ? 'block' : 'none';\n",
              "\n",
              "        async function convertToInteractive(key) {\n",
              "          const element = document.querySelector('#df-d3df0e61-2eea-4043-97cb-1b5a6757a2d4');\n",
              "          const dataTable =\n",
              "            await google.colab.kernel.invokeFunction('convertToInteractive',\n",
              "                                                     [key], {});\n",
              "          if (!dataTable) return;\n",
              "\n",
              "          const docLinkHtml = 'Like what you see? Visit the ' +\n",
              "            '<a target=\"_blank\" href=https://colab.research.google.com/notebooks/data_table.ipynb>data table notebook</a>'\n",
              "            + ' to learn more about interactive tables.';\n",
              "          element.innerHTML = '';\n",
              "          dataTable['output_type'] = 'display_data';\n",
              "          await google.colab.output.renderOutput(dataTable, element);\n",
              "          const docLink = document.createElement('div');\n",
              "          docLink.innerHTML = docLinkHtml;\n",
              "          element.appendChild(docLink);\n",
              "        }\n",
              "      </script>\n",
              "    </div>\n",
              "  </div>\n",
              "  "
            ]
          },
          "metadata": {},
          "execution_count": 10
        }
      ]
    },
    {
      "cell_type": "code",
      "source": [
        "data1"
      ],
      "metadata": {
        "colab": {
          "base_uri": "https://localhost:8080/",
          "height": 424
        },
        "id": "BI5fyo04SrxR",
        "outputId": "0e0ecdf8-f5ee-42a4-fe5f-2fa209a2aff1"
      },
      "execution_count": null,
      "outputs": [
        {
          "output_type": "execute_result",
          "data": {
            "text/plain": [
              "          Date  Price\n",
              "0     4-Jan-21  47.62\n",
              "1     5-Jan-21  49.93\n",
              "2     6-Jan-21  50.63\n",
              "3     7-Jan-21  50.83\n",
              "4     8-Jan-21  52.24\n",
              "..         ...    ...\n",
              "500  23-Nov-22  77.94\n",
              "501  24-Nov-22  77.95\n",
              "502  25-Nov-22  76.28\n",
              "503  28-Nov-22  77.24\n",
              "504  29-Nov-22  78.20\n",
              "\n",
              "[505 rows x 2 columns]"
            ],
            "text/html": [
              "\n",
              "  <div id=\"df-eb8ab637-c642-4683-a7a3-a3d6506a209f\">\n",
              "    <div class=\"colab-df-container\">\n",
              "      <div>\n",
              "<style scoped>\n",
              "    .dataframe tbody tr th:only-of-type {\n",
              "        vertical-align: middle;\n",
              "    }\n",
              "\n",
              "    .dataframe tbody tr th {\n",
              "        vertical-align: top;\n",
              "    }\n",
              "\n",
              "    .dataframe thead th {\n",
              "        text-align: right;\n",
              "    }\n",
              "</style>\n",
              "<table border=\"1\" class=\"dataframe\">\n",
              "  <thead>\n",
              "    <tr style=\"text-align: right;\">\n",
              "      <th></th>\n",
              "      <th>Date</th>\n",
              "      <th>Price</th>\n",
              "    </tr>\n",
              "  </thead>\n",
              "  <tbody>\n",
              "    <tr>\n",
              "      <th>0</th>\n",
              "      <td>4-Jan-21</td>\n",
              "      <td>47.62</td>\n",
              "    </tr>\n",
              "    <tr>\n",
              "      <th>1</th>\n",
              "      <td>5-Jan-21</td>\n",
              "      <td>49.93</td>\n",
              "    </tr>\n",
              "    <tr>\n",
              "      <th>2</th>\n",
              "      <td>6-Jan-21</td>\n",
              "      <td>50.63</td>\n",
              "    </tr>\n",
              "    <tr>\n",
              "      <th>3</th>\n",
              "      <td>7-Jan-21</td>\n",
              "      <td>50.83</td>\n",
              "    </tr>\n",
              "    <tr>\n",
              "      <th>4</th>\n",
              "      <td>8-Jan-21</td>\n",
              "      <td>52.24</td>\n",
              "    </tr>\n",
              "    <tr>\n",
              "      <th>...</th>\n",
              "      <td>...</td>\n",
              "      <td>...</td>\n",
              "    </tr>\n",
              "    <tr>\n",
              "      <th>500</th>\n",
              "      <td>23-Nov-22</td>\n",
              "      <td>77.94</td>\n",
              "    </tr>\n",
              "    <tr>\n",
              "      <th>501</th>\n",
              "      <td>24-Nov-22</td>\n",
              "      <td>77.95</td>\n",
              "    </tr>\n",
              "    <tr>\n",
              "      <th>502</th>\n",
              "      <td>25-Nov-22</td>\n",
              "      <td>76.28</td>\n",
              "    </tr>\n",
              "    <tr>\n",
              "      <th>503</th>\n",
              "      <td>28-Nov-22</td>\n",
              "      <td>77.24</td>\n",
              "    </tr>\n",
              "    <tr>\n",
              "      <th>504</th>\n",
              "      <td>29-Nov-22</td>\n",
              "      <td>78.20</td>\n",
              "    </tr>\n",
              "  </tbody>\n",
              "</table>\n",
              "<p>505 rows × 2 columns</p>\n",
              "</div>\n",
              "      <button class=\"colab-df-convert\" onclick=\"convertToInteractive('df-eb8ab637-c642-4683-a7a3-a3d6506a209f')\"\n",
              "              title=\"Convert this dataframe to an interactive table.\"\n",
              "              style=\"display:none;\">\n",
              "        \n",
              "  <svg xmlns=\"http://www.w3.org/2000/svg\" height=\"24px\"viewBox=\"0 0 24 24\"\n",
              "       width=\"24px\">\n",
              "    <path d=\"M0 0h24v24H0V0z\" fill=\"none\"/>\n",
              "    <path d=\"M18.56 5.44l.94 2.06.94-2.06 2.06-.94-2.06-.94-.94-2.06-.94 2.06-2.06.94zm-11 1L8.5 8.5l.94-2.06 2.06-.94-2.06-.94L8.5 2.5l-.94 2.06-2.06.94zm10 10l.94 2.06.94-2.06 2.06-.94-2.06-.94-.94-2.06-.94 2.06-2.06.94z\"/><path d=\"M17.41 7.96l-1.37-1.37c-.4-.4-.92-.59-1.43-.59-.52 0-1.04.2-1.43.59L10.3 9.45l-7.72 7.72c-.78.78-.78 2.05 0 2.83L4 21.41c.39.39.9.59 1.41.59.51 0 1.02-.2 1.41-.59l7.78-7.78 2.81-2.81c.8-.78.8-2.07 0-2.86zM5.41 20L4 18.59l7.72-7.72 1.47 1.35L5.41 20z\"/>\n",
              "  </svg>\n",
              "      </button>\n",
              "      \n",
              "  <style>\n",
              "    .colab-df-container {\n",
              "      display:flex;\n",
              "      flex-wrap:wrap;\n",
              "      gap: 12px;\n",
              "    }\n",
              "\n",
              "    .colab-df-convert {\n",
              "      background-color: #E8F0FE;\n",
              "      border: none;\n",
              "      border-radius: 50%;\n",
              "      cursor: pointer;\n",
              "      display: none;\n",
              "      fill: #1967D2;\n",
              "      height: 32px;\n",
              "      padding: 0 0 0 0;\n",
              "      width: 32px;\n",
              "    }\n",
              "\n",
              "    .colab-df-convert:hover {\n",
              "      background-color: #E2EBFA;\n",
              "      box-shadow: 0px 1px 2px rgba(60, 64, 67, 0.3), 0px 1px 3px 1px rgba(60, 64, 67, 0.15);\n",
              "      fill: #174EA6;\n",
              "    }\n",
              "\n",
              "    [theme=dark] .colab-df-convert {\n",
              "      background-color: #3B4455;\n",
              "      fill: #D2E3FC;\n",
              "    }\n",
              "\n",
              "    [theme=dark] .colab-df-convert:hover {\n",
              "      background-color: #434B5C;\n",
              "      box-shadow: 0px 1px 3px 1px rgba(0, 0, 0, 0.15);\n",
              "      filter: drop-shadow(0px 1px 2px rgba(0, 0, 0, 0.3));\n",
              "      fill: #FFFFFF;\n",
              "    }\n",
              "  </style>\n",
              "\n",
              "      <script>\n",
              "        const buttonEl =\n",
              "          document.querySelector('#df-eb8ab637-c642-4683-a7a3-a3d6506a209f button.colab-df-convert');\n",
              "        buttonEl.style.display =\n",
              "          google.colab.kernel.accessAllowed ? 'block' : 'none';\n",
              "\n",
              "        async function convertToInteractive(key) {\n",
              "          const element = document.querySelector('#df-eb8ab637-c642-4683-a7a3-a3d6506a209f');\n",
              "          const dataTable =\n",
              "            await google.colab.kernel.invokeFunction('convertToInteractive',\n",
              "                                                     [key], {});\n",
              "          if (!dataTable) return;\n",
              "\n",
              "          const docLinkHtml = 'Like what you see? Visit the ' +\n",
              "            '<a target=\"_blank\" href=https://colab.research.google.com/notebooks/data_table.ipynb>data table notebook</a>'\n",
              "            + ' to learn more about interactive tables.';\n",
              "          element.innerHTML = '';\n",
              "          dataTable['output_type'] = 'display_data';\n",
              "          await google.colab.output.renderOutput(dataTable, element);\n",
              "          const docLink = document.createElement('div');\n",
              "          docLink.innerHTML = docLinkHtml;\n",
              "          element.appendChild(docLink);\n",
              "        }\n",
              "      </script>\n",
              "    </div>\n",
              "  </div>\n",
              "  "
            ]
          },
          "metadata": {},
          "execution_count": 21
        }
      ]
    },
    {
      "cell_type": "code",
      "source": [
        "data1.shape"
      ],
      "metadata": {
        "colab": {
          "base_uri": "https://localhost:8080/"
        },
        "id": "BXRIj5TZSHuM",
        "outputId": "6ccf3efa-1697-4f72-fc15-f2a4a733f3fb"
      },
      "execution_count": null,
      "outputs": [
        {
          "output_type": "execute_result",
          "data": {
            "text/plain": [
              "(505, 2)"
            ]
          },
          "metadata": {},
          "execution_count": 22
        }
      ]
    },
    {
      "cell_type": "code",
      "source": [
        "price=data1['Price']"
      ],
      "metadata": {
        "id": "kQpl_yQ7TR-M"
      },
      "execution_count": null,
      "outputs": []
    },
    {
      "cell_type": "code",
      "source": [
        "price.plot()"
      ],
      "metadata": {
        "colab": {
          "base_uri": "https://localhost:8080/",
          "height": 282
        },
        "id": "kA6oWkPnThCh",
        "outputId": "d150b591-2051-41d7-d5b9-7feda930253e"
      },
      "execution_count": null,
      "outputs": [
        {
          "output_type": "execute_result",
          "data": {
            "text/plain": [
              "<matplotlib.axes._subplots.AxesSubplot at 0x7f1bbcd0ac10>"
            ]
          },
          "metadata": {},
          "execution_count": 25
        },
        {
          "output_type": "display_data",
          "data": {
            "text/plain": [
              "<Figure size 432x288 with 1 Axes>"
            ],
            "image/png": "[encoded data removed]"
          },
          "metadata": {
            "needs_background": "light"
          }
        }
      ]
    },
    {
      "cell_type": "code",
      "source": [
        "price_val=price.values"
      ],
      "metadata": {
        "id": "b_0HQLk6Tmmu"
      },
      "execution_count": null,
      "outputs": []
    },
    {
      "cell_type": "code",
      "source": [
        "normalizer = MinMaxScaler(feature_range=(0,1))\n",
        "price_scaled = normalizer.fit_transform(np.array(price_val).reshape(-1,1))"
      ],
      "metadata": {
        "id": "EbP3hSVVT70B"
      },
      "execution_count": null,
      "outputs": []
    },
    {
      "cell_type": "code",
      "source": [
        "def create_ds(dataset,step):\n",
        "    Xtrain, Ytrain = [], []\n",
        "    for i in range(len(dataset)-step-1):\n",
        "        a = dataset[i:(i+step), 0]\n",
        "        Xtrain.append(a)\n",
        "        Ytrain.append(dataset[i + step, 0])\n",
        "    return np.array(Xtrain), np.array(Ytrain)"
      ],
      "metadata": {
        "id": "IiFPTgYDUXeE"
      },
      "execution_count": null,
      "outputs": []
    },
    {
      "cell_type": "code",
      "source": [
        "time_stamp = 40\n",
        "X_train, y_train = create_ds(price_scaled,time_stamp)"
      ],
      "metadata": {
        "id": "4yNtTZBcUXXM"
      },
      "execution_count": null,
      "outputs": []
    },
    {
      "cell_type": "code",
      "source": [
        "X_train = X_train.reshape(X_train.shape[0],X_train.shape[1] , 1)\n"
      ],
      "metadata": {
        "id": "HdS8nTV6U9_h"
      },
      "execution_count": null,
      "outputs": []
    },
    {
      "cell_type": "code",
      "source": [
        "X_train.shape\n"
      ],
      "metadata": {
        "colab": {
          "base_uri": "https://localhost:8080/"
        },
        "id": "J_DG9I3TVAZo",
        "outputId": "b935a99c-feab-4bd6-c043-b272174f0ccd"
      },
      "execution_count": null,
      "outputs": [
        {
          "output_type": "execute_result",
          "data": {
            "text/plain": [
              "(464, 40, 1)"
            ]
          },
          "metadata": {},
          "execution_count": 38
        }
      ]
    },
    {
      "cell_type": "code",
      "source": [
        "#Creating LSTM model using keras\n",
        "model = Sequential()\n",
        "model.add(LSTM(units=50,return_sequences=True,input_shape=(X_train.shape[1],1)))\n",
        "model.add(LSTM(units=50,return_sequences=True))\n",
        "model.add(LSTM(units=50))\n",
        "model.add(Dense(units=1,activation='linear'))\n",
        "model.summary()"
      ],
      "metadata": {
        "colab": {
          "base_uri": "https://localhost:8080/"
        },
        "id": "08t3r3ZSVKEL",
        "outputId": "03037457-cbb3-4097-b517-e8e83ada09d7"
      },
      "execution_count": null,
      "outputs": [
        {
          "output_type": "stream",
          "name": "stdout",
          "text": [
            "Model: \"sequential\"\n",
            "_________________________________________________________________\n",
            " Layer (type)                Output Shape              Param #   \n",
            "=================================================================\n",
            " lstm (LSTM)                 (None, 40, 50)            10400     \n",
            "                                                                 \n",
            " lstm_1 (LSTM)               (None, 40, 50)            20200     \n",
            "                                                                 \n",
            " lstm_2 (LSTM)               (None, 50)                20200     \n",
            "                                                                 \n",
            " dense (Dense)               (None, 1)                 51        \n",
            "                                                                 \n",
            "=================================================================\n",
            "Total params: 50,851\n",
            "Trainable params: 50,851\n",
            "Non-trainable params: 0\n",
            "_________________________________________________________________\n"
          ]
        }
      ]
    },
    {
      "cell_type": "code",
      "source": [
        "#Training model with adam optimizer and mean squared error loss function\n",
        "model.compile(loss='mean_squared_error',optimizer='adam')\n",
        "model.fit(X_train,y_train,epochs=100,batch_size=64)"
      ],
      "metadata": {
        "colab": {
          "base_uri": "https://localhost:8080/"
        },
        "id": "j1StqdQVVNk8",
        "outputId": "8b1ae569-8053-4d6b-f608-69256718a9a4"
      },
      "execution_count": null,
      "outputs": [
        {
          "output_type": "stream",
          "name": "stdout",
          "text": [
            "Epoch 1/100\n",
            "8/8 [==============================] - 7s 76ms/step - loss: 0.1060\n",
            "Epoch 2/100\n",
            "8/8 [==============================] - 1s 77ms/step - loss: 0.0172\n",
            "Epoch 3/100\n",
            "8/8 [==============================] - 1s 77ms/step - loss: 0.0132\n",
            "Epoch 4/100\n",
            "8/8 [==============================] - 1s 72ms/step - loss: 0.0088\n",
            "Epoch 5/100\n",
            "8/8 [==============================] - 1s 73ms/step - loss: 0.0069\n",
            "Epoch 6/100\n",
            "8/8 [==============================] - 1s 72ms/step - loss: 0.0060\n",
            "Epoch 7/100\n",
            "8/8 [==============================] - 1s 75ms/step - loss: 0.0055\n",
            "Epoch 8/100\n",
            "8/8 [==============================] - 1s 75ms/step - loss: 0.0051\n",
            "Epoch 9/100\n",
            "8/8 [==============================] - 1s 73ms/step - loss: 0.0050\n",
            "Epoch 10/100\n",
            "8/8 [==============================] - 1s 74ms/step - loss: 0.0049\n",
            "Epoch 11/100\n",
            "8/8 [==============================] - 1s 80ms/step - loss: 0.0053\n",
            "Epoch 12/100\n",
            "8/8 [==============================] - 1s 74ms/step - loss: 0.0049\n",
            "Epoch 13/100\n",
            "8/8 [==============================] - 1s 75ms/step - loss: 0.0047\n",
            "Epoch 14/100\n",
            "8/8 [==============================] - 1s 73ms/step - loss: 0.0044\n",
            "Epoch 15/100\n",
            "8/8 [==============================] - 1s 74ms/step - loss: 0.0042\n",
            "Epoch 16/100\n",
            "8/8 [==============================] - 1s 74ms/step - loss: 0.0041\n",
            "Epoch 17/100\n",
            "8/8 [==============================] - 1s 72ms/step - loss: 0.0040\n",
            "Epoch 18/100\n",
            "8/8 [==============================] - 1s 77ms/step - loss: 0.0041\n",
            "Epoch 19/100\n",
            "8/8 [==============================] - 1s 74ms/step - loss: 0.0041\n",
            "Epoch 20/100\n",
            "8/8 [==============================] - 1s 75ms/step - loss: 0.0040\n",
            "Epoch 21/100\n",
            "8/8 [==============================] - 1s 73ms/step - loss: 0.0039\n",
            "Epoch 22/100\n",
            "8/8 [==============================] - 1s 78ms/step - loss: 0.0038\n",
            "Epoch 23/100\n",
            "8/8 [==============================] - 1s 76ms/step - loss: 0.0039\n",
            "Epoch 24/100\n",
            "8/8 [==============================] - 1s 76ms/step - loss: 0.0039\n",
            "Epoch 25/100\n",
            "8/8 [==============================] - 1s 74ms/step - loss: 0.0040\n",
            "Epoch 26/100\n",
            "8/8 [==============================] - 1s 74ms/step - loss: 0.0036\n",
            "Epoch 27/100\n",
            "8/8 [==============================] - 1s 76ms/step - loss: 0.0036\n",
            "Epoch 28/100\n",
            "8/8 [==============================] - 1s 77ms/step - loss: 0.0036\n",
            "Epoch 29/100\n",
            "8/8 [==============================] - 1s 80ms/step - loss: 0.0036\n",
            "Epoch 30/100\n",
            "8/8 [==============================] - 1s 74ms/step - loss: 0.0037\n",
            "Epoch 31/100\n",
            "8/8 [==============================] - 1s 74ms/step - loss: 0.0038\n",
            "Epoch 32/100\n",
            "8/8 [==============================] - 1s 75ms/step - loss: 0.0035\n",
            "Epoch 33/100\n",
            "8/8 [==============================] - 1s 74ms/step - loss: 0.0035\n",
            "Epoch 34/100\n",
            "8/8 [==============================] - 1s 74ms/step - loss: 0.0034\n",
            "Epoch 35/100\n",
            "8/8 [==============================] - 1s 74ms/step - loss: 0.0034\n",
            "Epoch 36/100\n",
            "8/8 [==============================] - 1s 73ms/step - loss: 0.0037\n",
            "Epoch 37/100\n",
            "8/8 [==============================] - 1s 76ms/step - loss: 0.0040\n",
            "Epoch 38/100\n",
            "8/8 [==============================] - 1s 75ms/step - loss: 0.0034\n",
            "Epoch 39/100\n",
            "8/8 [==============================] - 1s 77ms/step - loss: 0.0034\n",
            "Epoch 40/100\n",
            "8/8 [==============================] - 1s 77ms/step - loss: 0.0037\n",
            "Epoch 41/100\n",
            "8/8 [==============================] - 1s 75ms/step - loss: 0.0039\n",
            "Epoch 42/100\n",
            "8/8 [==============================] - 1s 79ms/step - loss: 0.0036\n",
            "Epoch 43/100\n",
            "8/8 [==============================] - 1s 72ms/step - loss: 0.0033\n",
            "Epoch 44/100\n",
            "8/8 [==============================] - 1s 75ms/step - loss: 0.0033\n",
            "Epoch 45/100\n",
            "8/8 [==============================] - 1s 76ms/step - loss: 0.0033\n",
            "Epoch 46/100\n",
            "8/8 [==============================] - 1s 72ms/step - loss: 0.0033\n",
            "Epoch 47/100\n",
            "8/8 [==============================] - 1s 75ms/step - loss: 0.0033\n",
            "Epoch 48/100\n",
            "8/8 [==============================] - 1s 103ms/step - loss: 0.0035\n",
            "Epoch 49/100\n",
            "8/8 [==============================] - 1s 106ms/step - loss: 0.0039\n",
            "Epoch 50/100\n",
            "8/8 [==============================] - 1s 78ms/step - loss: 0.0035\n",
            "Epoch 51/100\n",
            "8/8 [==============================] - 1s 127ms/step - loss: 0.0034\n",
            "Epoch 52/100\n",
            "8/8 [==============================] - 1s 163ms/step - loss: 0.0033\n",
            "Epoch 53/100\n",
            "8/8 [==============================] - 1s 154ms/step - loss: 0.0032\n",
            "Epoch 54/100\n",
            "8/8 [==============================] - 1s 164ms/step - loss: 0.0032\n",
            "Epoch 55/100\n",
            "8/8 [==============================] - 1s 137ms/step - loss: 0.0033\n",
            "Epoch 56/100\n",
            "8/8 [==============================] - 1s 126ms/step - loss: 0.0031\n",
            "Epoch 57/100\n",
            "8/8 [==============================] - 1s 103ms/step - loss: 0.0034\n",
            "Epoch 58/100\n",
            "8/8 [==============================] - 1s 72ms/step - loss: 0.0031\n",
            "Epoch 59/100\n",
            "8/8 [==============================] - 1s 75ms/step - loss: 0.0033\n",
            "Epoch 60/100\n",
            "8/8 [==============================] - 1s 72ms/step - loss: 0.0032\n",
            "Epoch 61/100\n",
            "8/8 [==============================] - 1s 75ms/step - loss: 0.0032\n",
            "Epoch 62/100\n",
            "8/8 [==============================] - 1s 75ms/step - loss: 0.0032\n",
            "Epoch 63/100\n",
            "8/8 [==============================] - 1s 71ms/step - loss: 0.0031\n",
            "Epoch 64/100\n",
            "8/8 [==============================] - 1s 75ms/step - loss: 0.0030\n",
            "Epoch 65/100\n",
            "8/8 [==============================] - 1s 72ms/step - loss: 0.0030\n",
            "Epoch 66/100\n",
            "8/8 [==============================] - 1s 75ms/step - loss: 0.0036\n",
            "Epoch 67/100\n",
            "8/8 [==============================] - 1s 75ms/step - loss: 0.0030\n",
            "Epoch 68/100\n",
            "8/8 [==============================] - 1s 73ms/step - loss: 0.0029\n",
            "Epoch 69/100\n",
            "8/8 [==============================] - 1s 74ms/step - loss: 0.0030\n",
            "Epoch 70/100\n",
            "8/8 [==============================] - 1s 74ms/step - loss: 0.0029\n",
            "Epoch 71/100\n",
            "8/8 [==============================] - 1s 74ms/step - loss: 0.0033\n",
            "Epoch 72/100\n",
            "8/8 [==============================] - 1s 73ms/step - loss: 0.0029\n",
            "Epoch 73/100\n",
            "8/8 [==============================] - 1s 71ms/step - loss: 0.0029\n",
            "Epoch 74/100\n",
            "8/8 [==============================] - 1s 74ms/step - loss: 0.0028\n",
            "Epoch 75/100\n",
            "8/8 [==============================] - 1s 76ms/step - loss: 0.0028\n",
            "Epoch 76/100\n",
            "8/8 [==============================] - 1s 74ms/step - loss: 0.0029\n",
            "Epoch 77/100\n",
            "8/8 [==============================] - 1s 72ms/step - loss: 0.0027\n",
            "Epoch 78/100\n",
            "8/8 [==============================] - 1s 78ms/step - loss: 0.0028\n",
            "Epoch 79/100\n",
            "8/8 [==============================] - 1s 74ms/step - loss: 0.0029\n",
            "Epoch 80/100\n",
            "8/8 [==============================] - 1s 75ms/step - loss: 0.0029\n",
            "Epoch 81/100\n",
            "8/8 [==============================] - 1s 76ms/step - loss: 0.0031\n",
            "Epoch 82/100\n",
            "8/8 [==============================] - 1s 72ms/step - loss: 0.0028\n",
            "Epoch 83/100\n",
            "8/8 [==============================] - 1s 77ms/step - loss: 0.0026\n",
            "Epoch 84/100\n",
            "8/8 [==============================] - 1s 76ms/step - loss: 0.0026\n",
            "Epoch 85/100\n",
            "8/8 [==============================] - 1s 74ms/step - loss: 0.0029\n",
            "Epoch 86/100\n",
            "8/8 [==============================] - 1s 80ms/step - loss: 0.0029\n",
            "Epoch 87/100\n",
            "8/8 [==============================] - 1s 76ms/step - loss: 0.0029\n",
            "Epoch 88/100\n",
            "8/8 [==============================] - 1s 77ms/step - loss: 0.0042\n",
            "Epoch 89/100\n",
            "8/8 [==============================] - 1s 75ms/step - loss: 0.0026\n",
            "Epoch 90/100\n",
            "8/8 [==============================] - 1s 76ms/step - loss: 0.0025\n",
            "Epoch 91/100\n",
            "8/8 [==============================] - 1s 76ms/step - loss: 0.0024\n",
            "Epoch 92/100\n",
            "8/8 [==============================] - 1s 74ms/step - loss: 0.0025\n",
            "Epoch 93/100\n",
            "8/8 [==============================] - 1s 73ms/step - loss: 0.0027\n",
            "Epoch 94/100\n",
            "8/8 [==============================] - 1s 75ms/step - loss: 0.0026\n",
            "Epoch 95/100\n",
            "8/8 [==============================] - 1s 73ms/step - loss: 0.0024\n",
            "Epoch 96/100\n",
            "8/8 [==============================] - 1s 75ms/step - loss: 0.0027\n",
            "Epoch 97/100\n",
            "8/8 [==============================] - 1s 73ms/step - loss: 0.0023\n",
            "Epoch 98/100\n",
            "8/8 [==============================] - 1s 76ms/step - loss: 0.0023\n",
            "Epoch 99/100\n",
            "8/8 [==============================] - 1s 74ms/step - loss: 0.0028\n",
            "Epoch 100/100\n",
            "8/8 [==============================] - 1s 75ms/step - loss: 0.0029\n"
          ]
        },
        {
          "output_type": "execute_result",
          "data": {
            "text/plain": [
              "<keras.callbacks.History at 0x7f1b5faf6880>"
            ]
          },
          "metadata": {},
          "execution_count": 41
        }
      ]
    },
    {
      "cell_type": "code",
      "source": [
        "#PLotting loss, it shows that loss has decreased significantly and model trained well\n",
        "loss = model.history.history['loss']\n",
        "plt.plot(loss)"
      ],
      "metadata": {
        "colab": {
          "base_uri": "https://localhost:8080/",
          "height": 282
        },
        "id": "BN9d4fpgViBF",
        "outputId": "0555f126-11e3-48ec-9143-eeef657667f4"
      },
      "execution_count": null,
      "outputs": [
        {
          "output_type": "execute_result",
          "data": {
            "text/plain": [
              "[<matplotlib.lines.Line2D at 0x7f1b5bb04f70>]"
            ]
          },
          "metadata": {},
          "execution_count": 42
        },
        {
          "output_type": "display_data",
          "data": {
            "text/plain": [
              "<Figure size 432x288 with 1 Axes>"
            ],
            "image/png": "[encoded data removed]"
          },
          "metadata": {
            "needs_background": "light"
          }
        }
      ]
    },
    {
      "cell_type": "code",
      "source": [
        "train_predict = model.predict(X_train)\n"
      ],
      "metadata": {
        "colab": {
          "base_uri": "https://localhost:8080/"
        },
        "id": "hKl3R5iqV1eK",
        "outputId": "79801c5f-c0b2-4945-961b-abcbf2f22076"
      },
      "execution_count": null,
      "outputs": [
        {
          "output_type": "stream",
          "name": "stdout",
          "text": [
            "15/15 [==============================] - 4s 17ms/step\n"
          ]
        }
      ]
    },
    {
      "cell_type": "code",
      "source": [
        "train_predict = normalizer.inverse_transform(train_predict)\n"
      ],
      "metadata": {
        "id": "737-fPWaV5VU"
      },
      "execution_count": null,
      "outputs": []
    },
    {
      "cell_type": "code",
      "source": [
        "plt.plot(normalizer.inverse_transform(price_scaled))\n",
        "plt.plot(train_predict)"
      ],
      "metadata": {
        "colab": {
          "base_uri": "https://localhost:8080/",
          "height": 282
        },
        "id": "1yE3H507V810",
        "outputId": "51e23c7f-7877-4fea-e729-a8e7540187ce"
      },
      "execution_count": null,
      "outputs": [
        {
          "output_type": "execute_result",
          "data": {
            "text/plain": [
              "[<matplotlib.lines.Line2D at 0x7f1b5f87ff10>]"
            ]
          },
          "metadata": {},
          "execution_count": 45
        },
        {
          "output_type": "display_data",
          "data": {
            "text/plain": [
              "<Figure size 432x288 with 1 Axes>"
            ],
            "image/png": "[encoded data removed]"
          },
          "metadata": {
            "needs_background": "light"
          }
        }
      ]
    },
    {
      "cell_type": "code",
      "source": [
        "len(price_scaled)"
      ],
      "metadata": {
        "colab": {
          "base_uri": "https://localhost:8080/"
        },
        "id": "6O5FR9iJWkWd",
        "outputId": "0c5abf74-86ec-4ea7-fc65-f6f71856bbef"
      },
      "execution_count": null,
      "outputs": [
        {
          "output_type": "execute_result",
          "data": {
            "text/plain": [
              "505"
            ]
          },
          "metadata": {},
          "execution_count": 48
        }
      ]
    },
    {
      "cell_type": "code",
      "source": [
        "fut_inp = price_scaled[465:]\n",
        "fut_inp = fut_inp.reshape(1,-1)\n",
        "tmp_inp = list(fut_inp)\n"
      ],
      "metadata": {
        "id": "M6OrExz-WvYg"
      },
      "execution_count": null,
      "outputs": []
    },
    {
      "cell_type": "code",
      "source": [
        "tmp_inp = tmp_inp[0].tolist()"
      ],
      "metadata": {
        "id": "zRxNwDUqWSwN"
      },
      "execution_count": null,
      "outputs": []
    },
    {
      "cell_type": "code",
      "source": [
        "#Predicting next 30 days price suing the current data\n",
        "#It will predict in sliding window manner (algorithm) with stride 1\n",
        "lst_output=[]\n",
        "n_steps=40\n",
        "i=0\n",
        "while(i<30):\n",
        "    \n",
        "    if(len(tmp_inp)>40):\n",
        "        fut_inp = np.array(tmp_inp[1:])\n",
        "        fut_inp=fut_inp.reshape(1,-1)\n",
        "        fut_inp = fut_inp.reshape((1, n_steps, 1))\n",
        "        yhat = model.predict(fut_inp, verbose=0)\n",
        "        tmp_inp.extend(yhat[0].tolist())\n",
        "        tmp_inp = tmp_inp[1:]\n",
        "        lst_output.extend(yhat.tolist())\n",
        "        i=i+1\n",
        "    else:\n",
        "        fut_inp = fut_inp.reshape((1, n_steps,1))\n",
        "        yhat = model.predict(fut_inp, verbose=0)\n",
        "        tmp_inp.extend(yhat[0].tolist())\n",
        "        lst_output.extend(yhat.tolist())\n",
        "        i=i+1\n",
        "    \n",
        "\n",
        "print(lst_output)"
      ],
      "metadata": {
        "colab": {
          "base_uri": "https://localhost:8080/"
        },
        "id": "JUc4gH2UWOXo",
        "outputId": "445d364e-2e5d-4e38-c4fc-0ce2a6933db3"
      },
      "execution_count": null,
      "outputs": [
        {
          "output_type": "stream",
          "name": "stdout",
          "text": [
            "[[0.40755409002304077], [0.40475019812583923], [0.40440768003463745], [0.4055328965187073], [0.4075878858566284], [0.41028207540512085], [0.41346675157546997], [0.4170570969581604], [0.4210207164287567], [0.42532238364219666], [0.42994508147239685], [0.43485748767852783], [0.44004544615745544], [0.4454931914806366], [0.4511822760105133], [0.4570932984352112], [0.46320709586143494], [0.469512015581131], [0.4759996831417084], [0.48265737295150757], [0.48946669697761536], [0.4964176118373871], [0.5035071969032288], [0.5107122659683228], [0.518034815788269], [0.5254696011543274], [0.5330080389976501], [0.5406346321105957], [0.5483381748199463], [0.5561214089393616]]\n"
          ]
        }
      ]
    },
    {
      "cell_type": "code",
      "source": [
        "plot_new=np.arange(1,41)\n",
        "plot_pred=np.arange(41,71)"
      ],
      "metadata": {
        "id": "oIveHPZxXvrF"
      },
      "execution_count": null,
      "outputs": []
    },
    {
      "cell_type": "code",
      "source": [
        "plt.plot(plot_new, normalizer.inverse_transform(price_scaled[465:]))\n",
        "plt.plot(plot_pred, normalizer.inverse_transform(lst_output))"
      ],
      "metadata": {
        "colab": {
          "base_uri": "https://localhost:8080/",
          "height": 282
        },
        "id": "k5kwsoMBX9Nz",
        "outputId": "6bdeb84b-f7b3-48ce-f5b4-8db36c4271d6"
      },
      "execution_count": null,
      "outputs": [
        {
          "output_type": "execute_result",
          "data": {
            "text/plain": [
              "[<matplotlib.lines.Line2D at 0x7f1b5f6d2640>]"
            ]
          },
          "metadata": {},
          "execution_count": 63
        },
        {
          "output_type": "display_data",
          "data": {
            "text/plain": [
              "<Figure size 432x288 with 1 Axes>"
            ],
            "image/png": "[encoded data removed]"
          },
          "metadata": {
            "needs_background": "light"
          }
        }
      ]
    },
    {
      "cell_type": "code",
      "source": [
        "price_new = price_scaled.tolist()\n"
      ],
      "metadata": {
        "id": "i2rr-5-nYKh6"
      },
      "execution_count": null,
      "outputs": []
    },
    {
      "cell_type": "code",
      "source": [
        "#Entends helps us to fill the missing value with approx value\n",
        "price_new.extend(lst_output)\n",
        "plt.plot(price_new[470:])"
      ],
      "metadata": {
        "colab": {
          "base_uri": "https://localhost:8080/",
          "height": 284
        },
        "id": "nIOpnHzGYPKn",
        "outputId": "ced1a71f-196f-4c52-e09c-44be1210fc55"
      },
      "execution_count": null,
      "outputs": [
        {
          "output_type": "execute_result",
          "data": {
            "text/plain": [
              "[<matplotlib.lines.Line2D at 0x7f1b5f6f6df0>]"
            ]
          },
          "metadata": {},
          "execution_count": 65
        },
        {
          "output_type": "display_data",
          "data": {
            "text/plain": [
              "<Figure size 432x288 with 1 Axes>"
            ],
            "image/png": "[encoded data removed]"
          },
          "metadata": {
            "needs_background": "light"
          }
        }
      ]
    },
    {
      "cell_type": "code",
      "source": [
        "final_graph = normalizer.inverse_transform(price_new).tolist()\n"
      ],
      "metadata": {
        "id": "p4iTa1UcYYE3"
      },
      "execution_count": null,
      "outputs": []
    },
    {
      "cell_type": "code",
      "source": [
        "#Plotting final results with predicted value after 30 Days\n",
        "plt.plot(final_graph,)\n",
        "plt.ylabel(\"Price\")\n",
        "plt.axhline(y=final_graph[len(final_graph)-1], color = 'blue', linestyle = ':', label = 'NEXT 30D: {0}'.format(round(float(*final_graph[len(final_graph)-1]),2)))\n",
        "plt.legend()"
      ],
      "metadata": {
        "colab": {
          "base_uri": "https://localhost:8080/",
          "height": 282
        },
        "id": "L_48ExItYaJV",
        "outputId": "96a4a192-493e-46df-ec1e-9468e1c8e627"
      },
      "execution_count": null,
      "outputs": [
        {
          "output_type": "execute_result",
          "data": {
            "text/plain": [
              "<matplotlib.legend.Legend at 0x7f1b5e00dd30>"
            ]
          },
          "metadata": {},
          "execution_count": 67
        },
        {
          "output_type": "display_data",
          "data": {
            "text/plain": [
              "<Figure size 432x288 with 1 Axes>"
            ],
            "image/png": "[encoded data removed]"
          },
          "metadata": {
            "needs_background": "light"
          }
        }
      ]
    }
  ]
}